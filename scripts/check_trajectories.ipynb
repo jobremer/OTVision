{
 "cells": [
  {
   "cell_type": "code",
   "execution_count": null,
   "metadata": {},
   "outputs": [],
   "source": [
    "%reset -f\n",
    "\n",
    "import sys\n",
    "import os\n",
    "import bz2\n",
    "import csv\n",
    "import pandas as pd\n",
    "import ast\n",
    "import ujson\n",
    "import numpy as np\n",
    "\n",
    "import datashader as ds\n",
    "import datashader.transfer_functions as tf\n",
    "\n",
    "import matplotlib.pyplot as plt\n",
    "import matplotlib.image as mpimg\n",
    "\n",
    "ENCODING = \"UTF-8\"\n",
    "\n",
    "# dirpath = \"Data/OTCamera/\"\n",
    "# filename = \"Testvideo_Cars-Cyclist_FR20_2020-01-01_00-00-00\"\n",
    "dirpath = \"Z:/04_Daten/GroundThruth/Fussverkehrausfkommen/OTC07_23-09-19_17-00-00/\"\n",
    "filename = \"OTCamera07_FR20_2023-09-19_17-00-00_Sued\"\n",
    "# dirpath = 'Z:/04_Daten/GroundThruth/Saarbruecken/'\n",
    "# filename = 'OTCamera17_FR20_2022-10-19_17-15-00'\n",
    "# dirpath = 'Z:/04_Daten/GroundThruth/Leipzig/OTC19/'\n",
    "# filename = 'OTCamera19_FR20_2023-05-24_07-15-00'\n",
    "fileending = '.ottrk'\n",
    "filepath = os.path.join(dirpath, filename) + fileending"
   ]
  },
  {
   "cell_type": "code",
   "execution_count": null,
   "metadata": {},
   "outputs": [],
   "source": []
  }
 ],
 "metadata": {
  "language_info": {
   "name": "python"
  }
 },
 "nbformat": 4,
 "nbformat_minor": 2
}
