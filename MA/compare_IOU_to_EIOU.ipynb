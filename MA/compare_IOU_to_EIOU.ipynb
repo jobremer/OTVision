{
 "cells": [
  {
   "cell_type": "code",
   "execution_count": 3,
   "metadata": {},
   "outputs": [
    {
     "name": "stdout",
     "output_type": "stream",
     "text": [
      "ottrk_to_txt...\n",
      "ottrk_to_txt...\n"
     ]
    }
   ],
   "source": [
    "%reset -f\n",
    "\n",
    "import os\n",
    "import pandas as pd\n",
    "import matplotlib.pyplot as plt\n",
    "from scripts.plotfunctions import tracklength\n",
    "from scripts.plotfunctions import ottrk_to_txt\n",
    "\n",
    "\n",
    "dirpath = \"Z:/04_Daten/GroundThruth/Fussverkehrausfkommen/OTC07_23-09-19_17-00-00\"\n",
    "name_IOU_tracks = \"OTCamera07_FR20_2023-09-19_17-00-00_Sued_IOU.ottrk\"\n",
    "name_EIOU_tracks = \"OTCamera07_FR20_2023-09-19_17-00-00_Sued_EIOU.ottrk\"\n",
    "# filepath = os.path.join(dirpath, filename) + fileending\n",
    "\n",
    "IOU_tracks, IOU_metadata = ottrk_to_txt(filepath = os.path.join(dirpath, name_IOU_tracks), export=False)\n",
    "IOU_tracks = IOU_tracks.sort_values(by=['track-id', 'frame'])\n",
    "\n",
    "EIOU_tracks, EIOU_metadata = ottrk_to_txt(filepath = os.path.join(dirpath, name_EIOU_tracks), export=False)\n",
    "EIOU_tracks = EIOU_tracks.sort_values(by=['track-id', 'frame'])"
   ]
  }
 ],
 "metadata": {
  "kernelspec": {
   "display_name": "venv",
   "language": "python",
   "name": "python3"
  },
  "language_info": {
   "codemirror_mode": {
    "name": "ipython",
    "version": 3
   },
   "file_extension": ".py",
   "mimetype": "text/x-python",
   "name": "python",
   "nbconvert_exporter": "python",
   "pygments_lexer": "ipython3",
   "version": "3.10.7"
  }
 },
 "nbformat": 4,
 "nbformat_minor": 2
}
