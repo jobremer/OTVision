{
 "cells": [
  {
   "cell_type": "code",
   "execution_count": 40,
   "metadata": {},
   "outputs": [],
   "source": [
    "%reset -f\n",
    "\n",
    "import sys\n",
    "import os\n",
    "import bz2\n",
    "import csv\n",
    "import pandas as pd\n",
    "import ast\n",
    "# import json\n",
    "import ujson\n",
    "import numpy\n",
    "import tqdm\n",
    "\n",
    "def get_counts(directory, cam):\n",
    "    # Dictionary zur Speicherung der DataFrames\n",
    "    dataframes = {}\n",
    "\n",
    "    # Durchsuche das Verzeichnis nach CSV-Dateien mit \"counts\" im Namen\n",
    "    for filename in os.listdir(directory):\n",
    "        if filename.endswith(\".csv\") and \"counts\" in filename:\n",
    "            # Importiere die CSV-Datei und speichere sie im Dictionary\n",
    "            filepath = os.path.join(directory, filename)\n",
    "            df = pd.read_csv(filepath)\n",
    "            df['filename'] = filename\n",
    "            df['SigmaIOU'] = df['filename'].apply(lambda x: x[-19:-17])\n",
    "            dataframes[filename] = df\n",
    "    counts = pd.concat(dataframes.values(), ignore_index=True)\n",
    "    counts_sum = counts.groupby(['SigmaIOU', 'flow'])['count'].sum().reset_index()\n",
    "    count_pivot = counts_sum.pivot(index='SigmaIOU', columns='flow', values='count')\n",
    "    count_pivot['Lauf'] = cam\n",
    "    \n",
    "    \n",
    "    \n",
    "    # count_pivot.to_csv(directory + cam + '_' + 'Counts_sum.csv', index=False)\n",
    "\n",
    "    return count_pivot\n",
    "\n",
    "counts_Leipzig_OTC07 = get_counts(directory = \"Z:/04_Daten/GroundThruth/Leipzig/OTC07/VarySigmaIOU/\", cam = 'Leipzig_OTC07')\n",
    "counts_Leipzig_OTC19 = get_counts(directory = \"Z:/04_Daten/GroundThruth/Leipzig/OTC19/vary_SigmaIOU/\", cam = 'Leipzig_OTC19')\n",
    "counts_KA_OTC13 = get_counts(directory = \"Z:/04_Daten/GroundThruth/Fussverkehrausfkommen/OTC13_23-10-22_17-00-00/vary_SigmaIOU/\", cam = 'KA_OTC13')\n",
    "counts_KA_OTC23 = get_counts(directory = \"Z:/04_Daten/GroundThruth/Fussverkehrausfkommen/OTC07_23-09-19_17-00-00/vary_sigmaIOU/\", cam = 'KA_OTC23')\n",
    "# counts_COP_OTC23 = get_counts(directory = \"Z:/04_Daten/GroundThruth/Kopenhagen/otcamera23_FR20_2023-10-06_16-30-00/vary_SigmaIOU/\", cam = 'COP_OTC23')\n",
    "\n",
    "\n"
   ]
  }
 ],
 "metadata": {
  "kernelspec": {
   "display_name": "venv",
   "language": "python",
   "name": "python3"
  },
  "language_info": {
   "codemirror_mode": {
    "name": "ipython",
    "version": 3
   },
   "file_extension": ".py",
   "mimetype": "text/x-python",
   "name": "python",
   "nbconvert_exporter": "python",
   "pygments_lexer": "ipython3",
   "version": "3.10.7"
  }
 },
 "nbformat": 4,
 "nbformat_minor": 2
}
