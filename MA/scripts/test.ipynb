{
 "cells": [
  {
   "cell_type": "code",
   "execution_count": 10,
   "metadata": {},
   "outputs": [
    {
     "name": "stdout",
     "output_type": "stream",
     "text": [
      "[4.]\n"
     ]
    }
   ],
   "source": [
    "import numpy as np\n",
    "import scipy as sp\n",
    "from scipy.ndimage import uniform_filter1d\n",
    "\n",
    "list = [2,3,4,5,6]\n",
    "\n",
    "def running_mean(x, N):\n",
    "    cumsum = np.cumsum(np.insert(x, 0, 0))\n",
    "    print(cumsum)\n",
    "    return (cumsum[N:] - cumsum[:-N]) / float(N)\n",
    "\n",
    "amount_mean = running_mean(list, N=5)\n",
    "\n",
    "print(amount_mean)"
   ]
  },
  {
   "cell_type": "code",
   "execution_count": 14,
   "metadata": {},
   "outputs": [
    {
     "name": "stdout",
     "output_type": "stream",
     "text": [
      "7.8\n"
     ]
    }
   ],
   "source": [
    "import numpy as np\n",
    "\n",
    "def running_mean(x, N):\n",
    "    cumsum = sum(x[-N:])  # Summe der letzten N Elemente von x\n",
    "    return cumsum / float(N)  # Berechnung des Mittelwerts\n",
    "\n",
    "\n",
    "# Beispielaufruf\n",
    "x = [1, 2, 3, 4, 5, 6, 7, 8, 9, 10]\n",
    "N = 5\n",
    "result = running_mean(x, N)\n",
    "print(result)"
   ]
  }
 ],
 "metadata": {
  "kernelspec": {
   "display_name": "venv",
   "language": "python",
   "name": "python3"
  },
  "language_info": {
   "codemirror_mode": {
    "name": "ipython",
    "version": 3
   },
   "file_extension": ".py",
   "mimetype": "text/x-python",
   "name": "python",
   "nbconvert_exporter": "python",
   "pygments_lexer": "ipython3",
   "version": "3.10.7"
  }
 },
 "nbformat": 4,
 "nbformat_minor": 2
}
