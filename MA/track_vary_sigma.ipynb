{
 "cells": [
  {
   "cell_type": "markdown",
   "metadata": {},
   "source": [
    "- Vary sigma_IOU and see how it changes the counts"
   ]
  },
  {
   "cell_type": "code",
   "execution_count": 27,
   "metadata": {},
   "outputs": [],
   "source": [
    "%reset -f\n",
    "\n",
    "import os\n",
    "import pandas as pd\n",
    "import bz2\n",
    "import ujson\n",
    "from scripts.GTCompare import import_analyze_export as iae\n",
    "\n",
    "current_directory = \"Z:/04_Daten/GroundThruth/Fussverkehrausfkommen/OTC07_23-09-19_17-00-00/vary_sigmaIOU\"\n",
    "# current_directory = \"Z:/04_Daten/GroundThruth/Fussverkehrausfkommen/OTC13_23-10-22_17-00-00/vary_SigmaIOU\"\n",
    "\n",
    "def extract_data_from_otevents(otevents_file):\n",
    "    # Dateiinhalt einlesen\n",
    "    with bz2.open(otevents_file, \"rt\", encoding=\"UTF-8\") as file:\n",
    "        dictfile = ujson.load(file)\n",
    "    \n",
    "    # Convert to DataFrame\n",
    "    df = pd.DataFrame.from_dict(dictfile['event_list'])\n",
    "    df[\"Sigma_IOU\"] = os.path.splitext(os.path.basename(otevents_file))[0]\n",
    "    return df\n",
    "\n",
    "def process_otevents_files(directory=\".\"):\n",
    "    # Durchsuche das angegebene Verzeichnis nach Dateien mit der Endung \".otevents\"\n",
    "    for root, dirs, files in os.walk(directory):\n",
    "        for file in files:\n",
    "            if file.endswith(\".otevents\"):\n",
    "                # Extrahiere den Dateinamen (ohne Erweiterung)\n",
    "                filename = os.path.splitext(file)[0]\n",
    "                \n",
    "                # Extrahiere die Daten aus der .otevents-Datei und erstelle ein DataFrame\n",
    "                df = extract_data_from_otevents(os.path.join(root, file))\n",
    "                globals()[filename] = df\n",
    "\n",
    "# OTC data\n",
    "process_otevents_files(current_directory)\n",
    "\n",
    "# GT Data\n",
    "def events_to_df(filepath, key = 'event_list'):\n",
    "    # Open otevents-file\n",
    "    with bz2.open(filepath, \"rt\", encoding=\"UTF-8\") as file:\n",
    "        dictfile = ujson.load(file)\n",
    "    \n",
    "    # Convert to DataFrame\n",
    "    EVENTS = pd.DataFrame.from_dict(dictfile[key])\n",
    "\n",
    "    return EVENTS\n",
    "\n",
    "GT_events = pd.DataFrame()\n",
    "for root, dirs, files in os.walk(current_directory):\n",
    "    for file in files:\n",
    "        if file.endswith('.otgtevents'):\n",
    "            path = os.path.join(root, file)\n",
    "            GT_eventfile = events_to_df(path)\n",
    "            GT_eventfile['File'] = file\n",
    "            GT_events = pd.concat([GT_events, GT_eventfile])\n",
    "            del GT_eventfile, root, dirs, files, path"
   ]
  },
  {
   "cell_type": "code",
   "execution_count": 29,
   "metadata": {},
   "outputs": [],
   "source": [
    "import numpy as np\n",
    "\n",
    "def import_analyze_export(OTCEvents, GTEvents, Sigma = \"\", include_GT = True):\n",
    "   \n",
    "    # Häufigkeit der road_user_id: Jede nur einmal\n",
    "    enter_events = OTCEvents[OTCEvents['event_type'] == 'enter-scene'].drop_duplicates('road_user_id')\n",
    "    leave_events = OTCEvents[OTCEvents['event_type'] == 'leave-scene'].drop_duplicates('road_user_id')\n",
    "    section_events = OTCEvents[OTCEvents['event_type'] == 'section-enter'].drop_duplicates(['road_user_id', 'section_id'])\n",
    "    section_events = section_events.reset_index(drop=True)\n",
    "\n",
    "    sections = pd.DataFrame(section_events.groupby(['road_user_id'])['section_id'].unique())\n",
    "    sections = sections.rename(columns={'section_id': 'sections'})\n",
    "    try:\n",
    "        sections[['section_1', 'section_2', 'section_3']] = pd.DataFrame(sections['sections'].tolist(), index=sections.index)\n",
    "        # del sections['sections']\n",
    "        \n",
    "        section_events = pd.merge(section_events, sections, how='left', on='road_user_id')\n",
    "        section_events[['section_1', 'section_2', 'section_3']] = section_events[['section_1', 'section_2', 'section_3']].replace({None: np.NaN})\n",
    "\n",
    "        OTA_events_filtered = pd.concat([enter_events, section_events], ignore_index=True)\n",
    "        del enter_events, leave_events, section_events, sections \n",
    "\n",
    "        # Eventklassifizierung\n",
    "        OTA_events_filtered.loc[(OTA_events_filtered['section_1'].isna()) & (OTA_events_filtered['section_2'].isna()), 'event_type2'] = 'No Section'\n",
    "        OTA_events_filtered.loc[~(OTA_events_filtered['section_1'].isna()) & (OTA_events_filtered['section_2'].isna()), 'event_type2'] = 'Section'\n",
    "        OTA_events_filtered.loc[(OTA_events_filtered['section_1'].isna()) & ~(OTA_events_filtered['section_2'].isna()), 'event_type2'] = 'Section'\n",
    "        OTA_events_filtered.loc[~(OTA_events_filtered['section_1'].isna()) & ~(OTA_events_filtered['section_2'].isna()), 'event_type2'] = 'Flow'\n",
    "\n",
    "        OTA_events_filtered.loc[(OTA_events_filtered['section_1'].isna()) & (OTA_events_filtered['section_2'].isna()) & (OTA_events_filtered['section_3'].isna()), 'event_type2'] = 'No Section'\n",
    "        OTA_events_filtered.loc[~(OTA_events_filtered['section_1'].isna()) & (OTA_events_filtered['section_2'].isna()) & (OTA_events_filtered['section_3'].isna()), 'event_type2'] = 'Section'\n",
    "        OTA_events_filtered.loc[(OTA_events_filtered['section_1'].isna()) & ~(OTA_events_filtered['section_2'].isna()) & (OTA_events_filtered['section_3'].isna()), 'event_type2'] = 'Section'\n",
    "        OTA_events_filtered.loc[(OTA_events_filtered['section_1'].isna()) & (OTA_events_filtered['section_2'].isna()) & ~(OTA_events_filtered['section_3'].isna()), 'event_type2'] = 'Section'\n",
    "        \n",
    "        OTA_events_filtered.loc[~(OTA_events_filtered['section_1'].isna()) & ~(OTA_events_filtered['section_2'].isna()) & (OTA_events_filtered['section_3'].isna()), 'event_type2'] = 'Flow'\n",
    "        OTA_events_filtered.loc[~(OTA_events_filtered['section_1'].isna()) & (OTA_events_filtered['section_2'].isna()) & ~(OTA_events_filtered['section_3'].isna()), 'event_type2'] = 'Flow'\n",
    "        OTA_events_filtered.loc[(OTA_events_filtered['section_1'].isna()) & ~(OTA_events_filtered['section_2'].isna()) & ~(OTA_events_filtered['section_3'].isna()), 'event_type2'] = 'Flow'    \n",
    "    \n",
    "    except:\n",
    "        sections[['section_1', 'section_2']] = pd.DataFrame(sections['sections'].tolist(), index=sections.index)\n",
    "        # del sections['sections']\n",
    "\n",
    "        section_events = pd.merge(section_events, sections, how='left', on='road_user_id')\n",
    "        section_events[['section_1', 'section_2']] = section_events[['section_1', 'section_2']].replace({None: np.NaN})\n",
    "\n",
    "        OTA_events_filtered = pd.concat([enter_events, section_events], ignore_index=True)\n",
    "        del enter_events, leave_events, section_events, sections \n",
    "\n",
    "        # Eventklassifizierung\n",
    "        OTA_events_filtered.loc[(OTA_events_filtered['section_1'].isna()) & (OTA_events_filtered['section_2'].isna()), 'event_type2'] = 'No Section'\n",
    "        OTA_events_filtered.loc[~(OTA_events_filtered['section_1'].isna()) & (OTA_events_filtered['section_2'].isna()), 'event_type2'] = 'Section'\n",
    "        OTA_events_filtered.loc[(OTA_events_filtered['section_1'].isna()) & ~(OTA_events_filtered['section_2'].isna()), 'event_type2'] = 'Section'\n",
    "        OTA_events_filtered.loc[~(OTA_events_filtered['section_1'].isna()) & ~(OTA_events_filtered['section_2'].isna()), 'event_type2'] = 'Flow'\n",
    "        \n",
    "    OTA_events_filtered = OTA_events_filtered[['road_user_id', 'road_user_type', 'frame_number', 'section_id', 'event_type2']]\n",
    "    \n",
    "    # Für road_user_ids, die eine Section schneiden sollen die enter-scene-Events entfernt werden\n",
    "    temp = OTA_events_filtered[OTA_events_filtered['event_type2'] != 'No Section'].reset_index(drop=True)\n",
    "\n",
    "    temp['dummy'] = 1\n",
    "    temp = temp[['road_user_id', 'dummy']].drop_duplicates()\n",
    "    OTA_events_filtered = pd.merge(OTA_events_filtered, temp, how='left', on='road_user_id')\n",
    "\n",
    "    OTA_events_filtered = OTA_events_filtered.drop(OTA_events_filtered[(OTA_events_filtered['section_id'].isna()) & (~OTA_events_filtered['dummy'].isna())].index)\n",
    "    OTA_events_filtered = OTA_events_filtered.sort_values(by=['road_user_id', 'frame_number'])\n",
    "\n",
    "    OTA_events_filtered = OTA_events_filtered.drop(OTA_events_filtered[OTA_events_filtered.duplicated(subset=['road_user_id'], keep='last')].index)\n",
    "\n",
    "    OTA_events_filtered.loc[(OTA_events_filtered['section_id'] == '1') & (OTA_events_filtered['event_type2'] == 'Section'), 'event_type3'] = 'Section 1'\n",
    "    OTA_events_filtered.loc[(OTA_events_filtered['section_id'] == '2') & (OTA_events_filtered['event_type2'] == 'Section'), 'event_type3'] = 'Section 2'\n",
    "    OTA_events_filtered.loc[(OTA_events_filtered['section_id'] == '3') & (OTA_events_filtered['event_type2'] == 'Section'), 'event_type3'] = 'Section 3'\n",
    "    OTA_events_filtered.loc[(OTA_events_filtered['section_id'] == '1') & (OTA_events_filtered['event_type2'] == 'Flow'), 'event_type3'] = 'Flow S1'\n",
    "    OTA_events_filtered.loc[(OTA_events_filtered['section_id'] == '2') & (OTA_events_filtered['event_type2'] == 'Flow'), 'event_type3'] = 'Flow S2'\n",
    "    OTA_events_filtered.loc[(OTA_events_filtered['section_id'] == '3') & (OTA_events_filtered['event_type2'] == 'Flow'), 'event_type3'] = 'Flow S3'\n",
    "    OTA_events_filtered.loc[(OTA_events_filtered['event_type2'] == 'No Section'), 'event_type3'] = 'No Section'\n",
    "    \n",
    "    \n",
    "    GT_events = GTEvents\n",
    "    GT_events['event_type3'] = 'Flow'\n",
    "    GT_events = GT_events.drop_duplicates(subset='road_user_id', keep='first')\n",
    "\n",
    "\n",
    "    # # Auswertung\n",
    "    OTACounts = pd.DataFrame(OTA_events_filtered.groupby(['road_user_type', 'event_type3'])['road_user_id'].count()).reset_index().rename(columns = {'road_user_id': 'OTAnalytics_0'})\n",
    "    OTACounts['Sigma_IOU'] = \"0,\" + Sigma\n",
    "    GTCounts = pd.DataFrame(GT_events.groupby(['road_user_type', 'event_type3'])['road_user_id'].count()).reset_index().rename(columns = {'road_user_id': 'OTGroundTruth'})\n",
    "\n",
    "    Counts = pd.merge(OTACounts, GTCounts, how='outer', left_on=['road_user_type', 'event_type3'], right_on = ['road_user_type', 'event_type3'])\n",
    "    Counts['OTGroundTruth'] = Counts['OTGroundTruth'].astype('Int64')\n",
    "    Counts['Differenz'] = Counts['OTGroundTruth'] - Counts['OTAnalytics_0']\n",
    "    Counts['Diff [%]'] = np.round((1 - np.round(Counts['OTAnalytics_0'] / Counts['OTGroundTruth'], 3)) * 100, 1)\n",
    "\n",
    "    # print(Counts)\n",
    "    \n",
    "    if include_GT == False:\n",
    "        return OTACounts\n",
    "    else:\n",
    "        return Counts\n",
    "    \n",
    "    # if savename != \"\":\n",
    "    #     Counts.to_csv(directory + 'Counts_' + Fall +'.csv', sep=';')\n",
    "\n",
    "Counts_events_sigmaIOU_30 = import_analyze_export(events_sigmaIOU_30, GT_events, Sigma = \"30\", include_GT = True)\n",
    "Counts_events_sigmaIOU_32 = import_analyze_export(events_sigmaIOU_32, GT_events, Sigma = \"32\", include_GT = True)\n",
    "Counts_events_sigmaIOU_34 = import_analyze_export(events_sigmaIOU_34, GT_events, Sigma = \"34\", include_GT = True)\n",
    "Counts_events_sigmaIOU_36 = import_analyze_export(events_sigmaIOU_36, GT_events, Sigma = \"36\", include_GT = True)\n",
    "Counts_events_sigmaIOU_38 = import_analyze_export(events_sigmaIOU_38, GT_events, Sigma = \"38\", include_GT = True)\n",
    "Counts_events_sigmaIOU_40 = import_analyze_export(events_sigmaIOU_40, GT_events, Sigma = \"40\", include_GT = True)\n",
    "Counts_events_sigmaIOU_42 = import_analyze_export(events_sigmaIOU_42, GT_events, Sigma = \"42\", include_GT = True)\n",
    "Counts_events_sigmaIOU_44 = import_analyze_export(events_sigmaIOU_44, GT_events, Sigma = \"44\", include_GT = True)\n",
    "Counts_events_sigmaIOU_46 = import_analyze_export(events_sigmaIOU_46, GT_events, Sigma = \"46\", include_GT = True)\n",
    "\n",
    "Counts_events = pd.concat([Counts_events_sigmaIOU_30,\n",
    "                           Counts_events_sigmaIOU_32,\n",
    "                           Counts_events_sigmaIOU_34,\n",
    "                           Counts_events_sigmaIOU_36,\n",
    "                           Counts_events_sigmaIOU_38,\n",
    "                           Counts_events_sigmaIOU_40,\n",
    "                           Counts_events_sigmaIOU_42,\n",
    "                           Counts_events_sigmaIOU_44,\n",
    "                           Counts_events_sigmaIOU_46])\n",
    "\n",
    "# Counts_events_sigmaIOU_20 = import_analyze_export(events_sigmaIOU_20, GT_events, Sigma = \"20\", include_GT = True)\n",
    "# Counts_events_sigmaIOU_24 = import_analyze_export(events_sigmaIOU_24, GT_events, Sigma = \"24\", include_GT = True)\n",
    "# Counts_events_sigmaIOU_28 = import_analyze_export(events_sigmaIOU_28, GT_events, Sigma = \"28\", include_GT = True)\n",
    "# Counts_events_sigmaIOU_32 = import_analyze_export(events_sigmaIOU_32, GT_events, Sigma = \"32\", include_GT = True)\n",
    "# Counts_events_sigmaIOU_36 = import_analyze_export(events_sigmaIOU_36, GT_events, Sigma = \"36\", include_GT = True)\n",
    "# Counts_events_sigmaIOU_40 = import_analyze_export(events_sigmaIOU_40, GT_events, Sigma = \"40\", include_GT = True)\n",
    "# Counts_events_sigmaIOU_44 = import_analyze_export(events_sigmaIOU_44, GT_events, Sigma = \"44\", include_GT = True)\n",
    "# Counts_events_sigmaIOU_48 = import_analyze_export(events_sigmaIOU_48, GT_events, Sigma = \"48\", include_GT = True)\n",
    "\n",
    "\n",
    "# Counts_events = pd.concat([Counts_events_sigmaIOU_20,\n",
    "#                            Counts_events_sigmaIOU_24,\n",
    "#                            Counts_events_sigmaIOU_28,\n",
    "#                            Counts_events_sigmaIOU_32,\n",
    "#                            Counts_events_sigmaIOU_36,\n",
    "#                            Counts_events_sigmaIOU_40,\n",
    "#                            Counts_events_sigmaIOU_44,\n",
    "#                            Counts_events_sigmaIOU_48])\n",
    "\n",
    "# Counts_events.to_csv(current_directory + '/Counts_' + 'events' +'.csv', sep=';')\n",
    "# del events_sigmaIOU_30, events_sigmaIOU_32, events_sigmaIOU_34, events_sigmaIOU_36, events_sigmaIOU_38, events_sigmaIOU_40, events_sigmaIOU_42, events_sigmaIOU_44, events_sigmaIOU_46, Counts_events_sigmaIOU_30, Counts_events_sigmaIOU_32, Counts_events_sigmaIOU_34, Counts_events_sigmaIOU_36, Counts_events_sigmaIOU_38, Counts_events_sigmaIOU_40, Counts_events_sigmaIOU_42, Counts_events_sigmaIOU_44, Counts_events_sigmaIOU_46"
   ]
  },
  {
   "cell_type": "code",
   "execution_count": 30,
   "metadata": {},
   "outputs": [
    {
     "data": {
      "application/vnd.plotly.v1+json": {
       "config": {
        "plotlyServerURL": "https://plot.ly"
       },
       "data": [
        {
         "alignmentgroup": "True",
         "hovertemplate": "Event=Flow<br>Sigma_IOU=%{x}<br>Anzahl=%{y}<extra></extra>",
         "legendgroup": "Flow",
         "marker": {
          "color": "#636efa",
          "pattern": {
           "shape": ""
          }
         },
         "name": "Flow",
         "offsetgroup": "Flow",
         "orientation": "v",
         "showlegend": true,
         "textposition": "auto",
         "type": "bar",
         "x": [
          null,
          null,
          null,
          null,
          null,
          null,
          null,
          null,
          null
         ],
         "xaxis": "x",
         "y": [
          null,
          null,
          null,
          null,
          null,
          null,
          null,
          null,
          null
         ],
         "yaxis": "y"
        },
        {
         "alignmentgroup": "True",
         "hovertemplate": "Event=Flow S1<br>Sigma_IOU=%{x}<br>Anzahl=%{y}<extra></extra>",
         "legendgroup": "Flow S1",
         "marker": {
          "color": "#EF553B",
          "pattern": {
           "shape": ""
          }
         },
         "name": "Flow S1",
         "offsetgroup": "Flow S1",
         "orientation": "v",
         "showlegend": true,
         "textposition": "auto",
         "type": "bar",
         "x": [
          "0,30",
          "0,32",
          "0,34",
          "0,36",
          "0,38",
          "0,40",
          "0,42",
          "0,44",
          "0,46"
         ],
         "xaxis": "x",
         "y": [
          132,
          135,
          134,
          133,
          133,
          131,
          124,
          120,
          120
         ],
         "yaxis": "y"
        },
        {
         "alignmentgroup": "True",
         "hovertemplate": "Event=Flow S2<br>Sigma_IOU=%{x}<br>Anzahl=%{y}<extra></extra>",
         "legendgroup": "Flow S2",
         "marker": {
          "color": "#00cc96",
          "pattern": {
           "shape": ""
          }
         },
         "name": "Flow S2",
         "offsetgroup": "Flow S2",
         "orientation": "v",
         "showlegend": true,
         "textposition": "auto",
         "type": "bar",
         "x": [
          "0,30",
          "0,32",
          "0,34",
          "0,36",
          "0,38",
          "0,40",
          "0,42",
          "0,44",
          "0,46"
         ],
         "xaxis": "x",
         "y": [
          13,
          12,
          13,
          13,
          13,
          13,
          13,
          13,
          13
         ],
         "yaxis": "y"
        },
        {
         "alignmentgroup": "True",
         "hovertemplate": "Event=Flow S3<br>Sigma_IOU=%{x}<br>Anzahl=%{y}<extra></extra>",
         "legendgroup": "Flow S3",
         "marker": {
          "color": "#ab63fa",
          "pattern": {
           "shape": ""
          }
         },
         "name": "Flow S3",
         "offsetgroup": "Flow S3",
         "orientation": "v",
         "showlegend": true,
         "textposition": "auto",
         "type": "bar",
         "x": [
          "0,30",
          "0,32",
          "0,34",
          "0,36",
          "0,38",
          "0,40",
          "0,42",
          "0,44",
          "0,46"
         ],
         "xaxis": "x",
         "y": [
          170,
          164,
          156,
          152,
          141,
          129,
          119,
          113,
          113
         ],
         "yaxis": "y"
        },
        {
         "alignmentgroup": "True",
         "hovertemplate": "Event=No Section<br>Sigma_IOU=%{x}<br>Anzahl=%{y}<extra></extra>",
         "legendgroup": "No Section",
         "marker": {
          "color": "#FFA15A",
          "pattern": {
           "shape": ""
          }
         },
         "name": "No Section",
         "offsetgroup": "No Section",
         "orientation": "v",
         "showlegend": true,
         "textposition": "auto",
         "type": "bar",
         "x": [
          "0,30",
          "0,32",
          "0,34",
          "0,36",
          "0,38",
          "0,40",
          "0,42",
          "0,44",
          "0,46"
         ],
         "xaxis": "x",
         "y": [
          170,
          169,
          171,
          171,
          171,
          173,
          175,
          175,
          175
         ],
         "yaxis": "y"
        },
        {
         "alignmentgroup": "True",
         "hovertemplate": "Event=Section 1<br>Sigma_IOU=%{x}<br>Anzahl=%{y}<extra></extra>",
         "legendgroup": "Section 1",
         "marker": {
          "color": "#19d3f3",
          "pattern": {
           "shape": ""
          }
         },
         "name": "Section 1",
         "offsetgroup": "Section 1",
         "orientation": "v",
         "showlegend": true,
         "textposition": "auto",
         "type": "bar",
         "x": [
          "0,30",
          "0,32",
          "0,34",
          "0,36",
          "0,38",
          "0,40",
          "0,42",
          "0,44",
          "0,46"
         ],
         "xaxis": "x",
         "y": [
          8,
          14,
          22,
          29,
          41,
          54,
          71,
          81,
          81
         ],
         "yaxis": "y"
        },
        {
         "alignmentgroup": "True",
         "hovertemplate": "Event=Section 3<br>Sigma_IOU=%{x}<br>Anzahl=%{y}<extra></extra>",
         "legendgroup": "Section 3",
         "marker": {
          "color": "#FF6692",
          "pattern": {
           "shape": ""
          }
         },
         "name": "Section 3",
         "offsetgroup": "Section 3",
         "orientation": "v",
         "showlegend": true,
         "textposition": "auto",
         "type": "bar",
         "x": [
          "0,30",
          "0,32",
          "0,34",
          "0,36",
          "0,38",
          "0,40",
          "0,42",
          "0,44",
          "0,46"
         ],
         "xaxis": "x",
         "y": [
          2,
          2,
          3,
          3,
          3,
          3,
          3,
          3,
          3
         ],
         "yaxis": "y"
        }
       ],
       "layout": {
        "barmode": "relative",
        "legend": {
         "title": {
          "text": "Event"
         },
         "tracegroupgap": 0
        },
        "margin": {
         "t": 60
        },
        "template": {
         "data": {
          "bar": [
           {
            "error_x": {
             "color": "#2a3f5f"
            },
            "error_y": {
             "color": "#2a3f5f"
            },
            "marker": {
             "line": {
              "color": "#E5ECF6",
              "width": 0.5
             },
             "pattern": {
              "fillmode": "overlay",
              "size": 10,
              "solidity": 0.2
             }
            },
            "type": "bar"
           }
          ],
          "barpolar": [
           {
            "marker": {
             "line": {
              "color": "#E5ECF6",
              "width": 0.5
             },
             "pattern": {
              "fillmode": "overlay",
              "size": 10,
              "solidity": 0.2
             }
            },
            "type": "barpolar"
           }
          ],
          "carpet": [
           {
            "aaxis": {
             "endlinecolor": "#2a3f5f",
             "gridcolor": "white",
             "linecolor": "white",
             "minorgridcolor": "white",
             "startlinecolor": "#2a3f5f"
            },
            "baxis": {
             "endlinecolor": "#2a3f5f",
             "gridcolor": "white",
             "linecolor": "white",
             "minorgridcolor": "white",
             "startlinecolor": "#2a3f5f"
            },
            "type": "carpet"
           }
          ],
          "choropleth": [
           {
            "colorbar": {
             "outlinewidth": 0,
             "ticks": ""
            },
            "type": "choropleth"
           }
          ],
          "contour": [
           {
            "colorbar": {
             "outlinewidth": 0,
             "ticks": ""
            },
            "colorscale": [
             [
              0,
              "#0d0887"
             ],
             [
              0.1111111111111111,
              "#46039f"
             ],
             [
              0.2222222222222222,
              "#7201a8"
             ],
             [
              0.3333333333333333,
              "#9c179e"
             ],
             [
              0.4444444444444444,
              "#bd3786"
             ],
             [
              0.5555555555555556,
              "#d8576b"
             ],
             [
              0.6666666666666666,
              "#ed7953"
             ],
             [
              0.7777777777777778,
              "#fb9f3a"
             ],
             [
              0.8888888888888888,
              "#fdca26"
             ],
             [
              1,
              "#f0f921"
             ]
            ],
            "type": "contour"
           }
          ],
          "contourcarpet": [
           {
            "colorbar": {
             "outlinewidth": 0,
             "ticks": ""
            },
            "type": "contourcarpet"
           }
          ],
          "heatmap": [
           {
            "colorbar": {
             "outlinewidth": 0,
             "ticks": ""
            },
            "colorscale": [
             [
              0,
              "#0d0887"
             ],
             [
              0.1111111111111111,
              "#46039f"
             ],
             [
              0.2222222222222222,
              "#7201a8"
             ],
             [
              0.3333333333333333,
              "#9c179e"
             ],
             [
              0.4444444444444444,
              "#bd3786"
             ],
             [
              0.5555555555555556,
              "#d8576b"
             ],
             [
              0.6666666666666666,
              "#ed7953"
             ],
             [
              0.7777777777777778,
              "#fb9f3a"
             ],
             [
              0.8888888888888888,
              "#fdca26"
             ],
             [
              1,
              "#f0f921"
             ]
            ],
            "type": "heatmap"
           }
          ],
          "heatmapgl": [
           {
            "colorbar": {
             "outlinewidth": 0,
             "ticks": ""
            },
            "colorscale": [
             [
              0,
              "#0d0887"
             ],
             [
              0.1111111111111111,
              "#46039f"
             ],
             [
              0.2222222222222222,
              "#7201a8"
             ],
             [
              0.3333333333333333,
              "#9c179e"
             ],
             [
              0.4444444444444444,
              "#bd3786"
             ],
             [
              0.5555555555555556,
              "#d8576b"
             ],
             [
              0.6666666666666666,
              "#ed7953"
             ],
             [
              0.7777777777777778,
              "#fb9f3a"
             ],
             [
              0.8888888888888888,
              "#fdca26"
             ],
             [
              1,
              "#f0f921"
             ]
            ],
            "type": "heatmapgl"
           }
          ],
          "histogram": [
           {
            "marker": {
             "pattern": {
              "fillmode": "overlay",
              "size": 10,
              "solidity": 0.2
             }
            },
            "type": "histogram"
           }
          ],
          "histogram2d": [
           {
            "colorbar": {
             "outlinewidth": 0,
             "ticks": ""
            },
            "colorscale": [
             [
              0,
              "#0d0887"
             ],
             [
              0.1111111111111111,
              "#46039f"
             ],
             [
              0.2222222222222222,
              "#7201a8"
             ],
             [
              0.3333333333333333,
              "#9c179e"
             ],
             [
              0.4444444444444444,
              "#bd3786"
             ],
             [
              0.5555555555555556,
              "#d8576b"
             ],
             [
              0.6666666666666666,
              "#ed7953"
             ],
             [
              0.7777777777777778,
              "#fb9f3a"
             ],
             [
              0.8888888888888888,
              "#fdca26"
             ],
             [
              1,
              "#f0f921"
             ]
            ],
            "type": "histogram2d"
           }
          ],
          "histogram2dcontour": [
           {
            "colorbar": {
             "outlinewidth": 0,
             "ticks": ""
            },
            "colorscale": [
             [
              0,
              "#0d0887"
             ],
             [
              0.1111111111111111,
              "#46039f"
             ],
             [
              0.2222222222222222,
              "#7201a8"
             ],
             [
              0.3333333333333333,
              "#9c179e"
             ],
             [
              0.4444444444444444,
              "#bd3786"
             ],
             [
              0.5555555555555556,
              "#d8576b"
             ],
             [
              0.6666666666666666,
              "#ed7953"
             ],
             [
              0.7777777777777778,
              "#fb9f3a"
             ],
             [
              0.8888888888888888,
              "#fdca26"
             ],
             [
              1,
              "#f0f921"
             ]
            ],
            "type": "histogram2dcontour"
           }
          ],
          "mesh3d": [
           {
            "colorbar": {
             "outlinewidth": 0,
             "ticks": ""
            },
            "type": "mesh3d"
           }
          ],
          "parcoords": [
           {
            "line": {
             "colorbar": {
              "outlinewidth": 0,
              "ticks": ""
             }
            },
            "type": "parcoords"
           }
          ],
          "pie": [
           {
            "automargin": true,
            "type": "pie"
           }
          ],
          "scatter": [
           {
            "fillpattern": {
             "fillmode": "overlay",
             "size": 10,
             "solidity": 0.2
            },
            "type": "scatter"
           }
          ],
          "scatter3d": [
           {
            "line": {
             "colorbar": {
              "outlinewidth": 0,
              "ticks": ""
             }
            },
            "marker": {
             "colorbar": {
              "outlinewidth": 0,
              "ticks": ""
             }
            },
            "type": "scatter3d"
           }
          ],
          "scattercarpet": [
           {
            "marker": {
             "colorbar": {
              "outlinewidth": 0,
              "ticks": ""
             }
            },
            "type": "scattercarpet"
           }
          ],
          "scattergeo": [
           {
            "marker": {
             "colorbar": {
              "outlinewidth": 0,
              "ticks": ""
             }
            },
            "type": "scattergeo"
           }
          ],
          "scattergl": [
           {
            "marker": {
             "colorbar": {
              "outlinewidth": 0,
              "ticks": ""
             }
            },
            "type": "scattergl"
           }
          ],
          "scattermapbox": [
           {
            "marker": {
             "colorbar": {
              "outlinewidth": 0,
              "ticks": ""
             }
            },
            "type": "scattermapbox"
           }
          ],
          "scatterpolar": [
           {
            "marker": {
             "colorbar": {
              "outlinewidth": 0,
              "ticks": ""
             }
            },
            "type": "scatterpolar"
           }
          ],
          "scatterpolargl": [
           {
            "marker": {
             "colorbar": {
              "outlinewidth": 0,
              "ticks": ""
             }
            },
            "type": "scatterpolargl"
           }
          ],
          "scatterternary": [
           {
            "marker": {
             "colorbar": {
              "outlinewidth": 0,
              "ticks": ""
             }
            },
            "type": "scatterternary"
           }
          ],
          "surface": [
           {
            "colorbar": {
             "outlinewidth": 0,
             "ticks": ""
            },
            "colorscale": [
             [
              0,
              "#0d0887"
             ],
             [
              0.1111111111111111,
              "#46039f"
             ],
             [
              0.2222222222222222,
              "#7201a8"
             ],
             [
              0.3333333333333333,
              "#9c179e"
             ],
             [
              0.4444444444444444,
              "#bd3786"
             ],
             [
              0.5555555555555556,
              "#d8576b"
             ],
             [
              0.6666666666666666,
              "#ed7953"
             ],
             [
              0.7777777777777778,
              "#fb9f3a"
             ],
             [
              0.8888888888888888,
              "#fdca26"
             ],
             [
              1,
              "#f0f921"
             ]
            ],
            "type": "surface"
           }
          ],
          "table": [
           {
            "cells": {
             "fill": {
              "color": "#EBF0F8"
             },
             "line": {
              "color": "white"
             }
            },
            "header": {
             "fill": {
              "color": "#C8D4E3"
             },
             "line": {
              "color": "white"
             }
            },
            "type": "table"
           }
          ]
         },
         "layout": {
          "annotationdefaults": {
           "arrowcolor": "#2a3f5f",
           "arrowhead": 0,
           "arrowwidth": 1
          },
          "autotypenumbers": "strict",
          "coloraxis": {
           "colorbar": {
            "outlinewidth": 0,
            "ticks": ""
           }
          },
          "colorscale": {
           "diverging": [
            [
             0,
             "#8e0152"
            ],
            [
             0.1,
             "#c51b7d"
            ],
            [
             0.2,
             "#de77ae"
            ],
            [
             0.3,
             "#f1b6da"
            ],
            [
             0.4,
             "#fde0ef"
            ],
            [
             0.5,
             "#f7f7f7"
            ],
            [
             0.6,
             "#e6f5d0"
            ],
            [
             0.7,
             "#b8e186"
            ],
            [
             0.8,
             "#7fbc41"
            ],
            [
             0.9,
             "#4d9221"
            ],
            [
             1,
             "#276419"
            ]
           ],
           "sequential": [
            [
             0,
             "#0d0887"
            ],
            [
             0.1111111111111111,
             "#46039f"
            ],
            [
             0.2222222222222222,
             "#7201a8"
            ],
            [
             0.3333333333333333,
             "#9c179e"
            ],
            [
             0.4444444444444444,
             "#bd3786"
            ],
            [
             0.5555555555555556,
             "#d8576b"
            ],
            [
             0.6666666666666666,
             "#ed7953"
            ],
            [
             0.7777777777777778,
             "#fb9f3a"
            ],
            [
             0.8888888888888888,
             "#fdca26"
            ],
            [
             1,
             "#f0f921"
            ]
           ],
           "sequentialminus": [
            [
             0,
             "#0d0887"
            ],
            [
             0.1111111111111111,
             "#46039f"
            ],
            [
             0.2222222222222222,
             "#7201a8"
            ],
            [
             0.3333333333333333,
             "#9c179e"
            ],
            [
             0.4444444444444444,
             "#bd3786"
            ],
            [
             0.5555555555555556,
             "#d8576b"
            ],
            [
             0.6666666666666666,
             "#ed7953"
            ],
            [
             0.7777777777777778,
             "#fb9f3a"
            ],
            [
             0.8888888888888888,
             "#fdca26"
            ],
            [
             1,
             "#f0f921"
            ]
           ]
          },
          "colorway": [
           "#636efa",
           "#EF553B",
           "#00cc96",
           "#ab63fa",
           "#FFA15A",
           "#19d3f3",
           "#FF6692",
           "#B6E880",
           "#FF97FF",
           "#FECB52"
          ],
          "font": {
           "color": "#2a3f5f"
          },
          "geo": {
           "bgcolor": "white",
           "lakecolor": "white",
           "landcolor": "#E5ECF6",
           "showlakes": true,
           "showland": true,
           "subunitcolor": "white"
          },
          "hoverlabel": {
           "align": "left"
          },
          "hovermode": "closest",
          "mapbox": {
           "style": "light"
          },
          "paper_bgcolor": "white",
          "plot_bgcolor": "#E5ECF6",
          "polar": {
           "angularaxis": {
            "gridcolor": "white",
            "linecolor": "white",
            "ticks": ""
           },
           "bgcolor": "#E5ECF6",
           "radialaxis": {
            "gridcolor": "white",
            "linecolor": "white",
            "ticks": ""
           }
          },
          "scene": {
           "xaxis": {
            "backgroundcolor": "#E5ECF6",
            "gridcolor": "white",
            "gridwidth": 2,
            "linecolor": "white",
            "showbackground": true,
            "ticks": "",
            "zerolinecolor": "white"
           },
           "yaxis": {
            "backgroundcolor": "#E5ECF6",
            "gridcolor": "white",
            "gridwidth": 2,
            "linecolor": "white",
            "showbackground": true,
            "ticks": "",
            "zerolinecolor": "white"
           },
           "zaxis": {
            "backgroundcolor": "#E5ECF6",
            "gridcolor": "white",
            "gridwidth": 2,
            "linecolor": "white",
            "showbackground": true,
            "ticks": "",
            "zerolinecolor": "white"
           }
          },
          "shapedefaults": {
           "line": {
            "color": "#2a3f5f"
           }
          },
          "ternary": {
           "aaxis": {
            "gridcolor": "white",
            "linecolor": "white",
            "ticks": ""
           },
           "baxis": {
            "gridcolor": "white",
            "linecolor": "white",
            "ticks": ""
           },
           "bgcolor": "#E5ECF6",
           "caxis": {
            "gridcolor": "white",
            "linecolor": "white",
            "ticks": ""
           }
          },
          "title": {
           "x": 0.05
          },
          "xaxis": {
           "automargin": true,
           "gridcolor": "white",
           "linecolor": "white",
           "ticks": "",
           "title": {
            "standoff": 15
           },
           "zerolinecolor": "white",
           "zerolinewidth": 2
          },
          "yaxis": {
           "automargin": true,
           "gridcolor": "white",
           "linecolor": "white",
           "ticks": "",
           "title": {
            "standoff": 15
           },
           "zerolinecolor": "white",
           "zerolinewidth": 2
          }
         }
        },
        "xaxis": {
         "anchor": "y",
         "domain": [
          0,
          1
         ],
         "title": {
          "text": "Sigma_IOU"
         }
        },
        "yaxis": {
         "anchor": "x",
         "domain": [
          0,
          1
         ],
         "title": {
          "text": "Anzahl"
         }
        }
       }
      }
     },
     "metadata": {},
     "output_type": "display_data"
    }
   ],
   "source": [
    "import plotly.express as px\n",
    "from plotly.graph_objs import *\n",
    "import plotly.io as pio\n",
    "\n",
    "data = Counts_events.rename(columns={'event_type3': 'Event', 'OTAnalytics_0': 'Anzahl'})\n",
    "\n",
    "\n",
    "fig = px.bar(data[data['road_user_type'] == 'car'], x='Sigma_IOU', y='Anzahl',\n",
    "             color='Event', \n",
    "            #  barmode='group',\n",
    "            #  category_orders='road_user_type'\n",
    "            )\n",
    "# fig.update_layout(paper_bgcolor='rgba(0,0,0,0)', plot_bgcolor='rgba(0,0,0,0)')\n",
    "fig.show()\n",
    "\n"
   ]
  },
  {
   "cell_type": "code",
   "execution_count": 31,
   "metadata": {},
   "outputs": [
    {
     "data": {
      "application/vnd.plotly.v1+json": {
       "config": {
        "plotlyServerURL": "https://plot.ly"
       },
       "data": [
        {
         "alignmentgroup": "True",
         "hovertemplate": "Event=Flow<br>Sigma_IOU=%{x}<br>Anzahl=%{y}<extra></extra>",
         "legendgroup": "Flow",
         "marker": {
          "color": "#636efa",
          "pattern": {
           "shape": ""
          }
         },
         "name": "Flow",
         "offsetgroup": "Flow",
         "orientation": "v",
         "showlegend": true,
         "textposition": "auto",
         "type": "bar",
         "x": [
          null,
          null,
          null,
          null,
          null,
          null,
          null,
          null,
          null
         ],
         "xaxis": "x",
         "y": [
          null,
          null,
          null,
          null,
          null,
          null,
          null,
          null,
          null
         ],
         "yaxis": "y"
        },
        {
         "alignmentgroup": "True",
         "hovertemplate": "Event=Flow S1<br>Sigma_IOU=%{x}<br>Anzahl=%{y}<extra></extra>",
         "legendgroup": "Flow S1",
         "marker": {
          "color": "#EF553B",
          "pattern": {
           "shape": ""
          }
         },
         "name": "Flow S1",
         "offsetgroup": "Flow S1",
         "orientation": "v",
         "showlegend": true,
         "textposition": "auto",
         "type": "bar",
         "x": [
          "0,30",
          "0,32",
          "0,34",
          "0,36",
          "0,38",
          "0,40",
          "0,42",
          "0,44",
          "0,46"
         ],
         "xaxis": "x",
         "y": [
          1,
          1,
          1,
          2,
          1,
          1,
          2,
          2,
          2
         ],
         "yaxis": "y"
        },
        {
         "alignmentgroup": "True",
         "hovertemplate": "Event=Flow S2<br>Sigma_IOU=%{x}<br>Anzahl=%{y}<extra></extra>",
         "legendgroup": "Flow S2",
         "marker": {
          "color": "#00cc96",
          "pattern": {
           "shape": ""
          }
         },
         "name": "Flow S2",
         "offsetgroup": "Flow S2",
         "orientation": "v",
         "showlegend": true,
         "textposition": "auto",
         "type": "bar",
         "x": [
          "0,30",
          "0,32",
          "0,34",
          "0,36",
          "0,38",
          "0,40",
          "0,42",
          "0,44",
          "0,46"
         ],
         "xaxis": "x",
         "y": [
          4,
          4,
          4,
          4,
          4,
          4,
          4,
          2,
          2
         ],
         "yaxis": "y"
        },
        {
         "alignmentgroup": "True",
         "hovertemplate": "Event=Flow S3<br>Sigma_IOU=%{x}<br>Anzahl=%{y}<extra></extra>",
         "legendgroup": "Flow S3",
         "marker": {
          "color": "#ab63fa",
          "pattern": {
           "shape": ""
          }
         },
         "name": "Flow S3",
         "offsetgroup": "Flow S3",
         "orientation": "v",
         "showlegend": true,
         "textposition": "auto",
         "type": "bar",
         "x": [
          "0,30",
          "0,32",
          "0,34",
          "0,36",
          "0,38",
          "0,40",
          "0,42",
          "0,44",
          "0,46"
         ],
         "xaxis": "x",
         "y": [
          4,
          4,
          4,
          3,
          3,
          3,
          2,
          2,
          2
         ],
         "yaxis": "y"
        },
        {
         "alignmentgroup": "True",
         "hovertemplate": "Event=No Section<br>Sigma_IOU=%{x}<br>Anzahl=%{y}<extra></extra>",
         "legendgroup": "No Section",
         "marker": {
          "color": "#FFA15A",
          "pattern": {
           "shape": ""
          }
         },
         "name": "No Section",
         "offsetgroup": "No Section",
         "orientation": "v",
         "showlegend": true,
         "textposition": "auto",
         "type": "bar",
         "x": [
          "0,30",
          "0,32",
          "0,34",
          "0,36",
          "0,38",
          "0,40",
          "0,42",
          "0,44",
          "0,46"
         ],
         "xaxis": "x",
         "y": [
          148,
          149,
          154,
          163,
          170,
          175,
          182,
          185,
          185
         ],
         "yaxis": "y"
        },
        {
         "alignmentgroup": "True",
         "hovertemplate": "Event=Section 1<br>Sigma_IOU=%{x}<br>Anzahl=%{y}<extra></extra>",
         "legendgroup": "Section 1",
         "marker": {
          "color": "#19d3f3",
          "pattern": {
           "shape": ""
          }
         },
         "name": "Section 1",
         "offsetgroup": "Section 1",
         "orientation": "v",
         "showlegend": true,
         "textposition": "auto",
         "type": "bar",
         "x": [
          "0,30",
          "0,32",
          "0,34",
          "0,36",
          "0,38",
          "0,40",
          "0,42",
          "0,44",
          "0,46"
         ],
         "xaxis": "x",
         "y": [
          2,
          2,
          2,
          2,
          3,
          3,
          3,
          3,
          3
         ],
         "yaxis": "y"
        },
        {
         "alignmentgroup": "True",
         "hovertemplate": "Event=Section 2<br>Sigma_IOU=%{x}<br>Anzahl=%{y}<extra></extra>",
         "legendgroup": "Section 2",
         "marker": {
          "color": "#FF6692",
          "pattern": {
           "shape": ""
          }
         },
         "name": "Section 2",
         "offsetgroup": "Section 2",
         "orientation": "v",
         "showlegend": true,
         "textposition": "auto",
         "type": "bar",
         "x": [
          "0,30",
          "0,32",
          "0,34",
          "0,38",
          "0,44",
          "0,46"
         ],
         "xaxis": "x",
         "y": [
          1,
          1,
          1,
          1,
          2,
          2
         ],
         "yaxis": "y"
        },
        {
         "alignmentgroup": "True",
         "hovertemplate": "Event=Section 3<br>Sigma_IOU=%{x}<br>Anzahl=%{y}<extra></extra>",
         "legendgroup": "Section 3",
         "marker": {
          "color": "#B6E880",
          "pattern": {
           "shape": ""
          }
         },
         "name": "Section 3",
         "offsetgroup": "Section 3",
         "orientation": "v",
         "showlegend": true,
         "textposition": "auto",
         "type": "bar",
         "x": [
          "0,30",
          "0,32",
          "0,34",
          "0,36",
          "0,38",
          "0,40",
          "0,42",
          "0,44",
          "0,46"
         ],
         "xaxis": "x",
         "y": [
          1,
          1,
          1,
          2,
          2,
          2,
          3,
          5,
          5
         ],
         "yaxis": "y"
        }
       ],
       "layout": {
        "barmode": "relative",
        "legend": {
         "title": {
          "text": "Event"
         },
         "tracegroupgap": 0
        },
        "margin": {
         "t": 60
        },
        "template": {
         "data": {
          "bar": [
           {
            "error_x": {
             "color": "#2a3f5f"
            },
            "error_y": {
             "color": "#2a3f5f"
            },
            "marker": {
             "line": {
              "color": "#E5ECF6",
              "width": 0.5
             },
             "pattern": {
              "fillmode": "overlay",
              "size": 10,
              "solidity": 0.2
             }
            },
            "type": "bar"
           }
          ],
          "barpolar": [
           {
            "marker": {
             "line": {
              "color": "#E5ECF6",
              "width": 0.5
             },
             "pattern": {
              "fillmode": "overlay",
              "size": 10,
              "solidity": 0.2
             }
            },
            "type": "barpolar"
           }
          ],
          "carpet": [
           {
            "aaxis": {
             "endlinecolor": "#2a3f5f",
             "gridcolor": "white",
             "linecolor": "white",
             "minorgridcolor": "white",
             "startlinecolor": "#2a3f5f"
            },
            "baxis": {
             "endlinecolor": "#2a3f5f",
             "gridcolor": "white",
             "linecolor": "white",
             "minorgridcolor": "white",
             "startlinecolor": "#2a3f5f"
            },
            "type": "carpet"
           }
          ],
          "choropleth": [
           {
            "colorbar": {
             "outlinewidth": 0,
             "ticks": ""
            },
            "type": "choropleth"
           }
          ],
          "contour": [
           {
            "colorbar": {
             "outlinewidth": 0,
             "ticks": ""
            },
            "colorscale": [
             [
              0,
              "#0d0887"
             ],
             [
              0.1111111111111111,
              "#46039f"
             ],
             [
              0.2222222222222222,
              "#7201a8"
             ],
             [
              0.3333333333333333,
              "#9c179e"
             ],
             [
              0.4444444444444444,
              "#bd3786"
             ],
             [
              0.5555555555555556,
              "#d8576b"
             ],
             [
              0.6666666666666666,
              "#ed7953"
             ],
             [
              0.7777777777777778,
              "#fb9f3a"
             ],
             [
              0.8888888888888888,
              "#fdca26"
             ],
             [
              1,
              "#f0f921"
             ]
            ],
            "type": "contour"
           }
          ],
          "contourcarpet": [
           {
            "colorbar": {
             "outlinewidth": 0,
             "ticks": ""
            },
            "type": "contourcarpet"
           }
          ],
          "heatmap": [
           {
            "colorbar": {
             "outlinewidth": 0,
             "ticks": ""
            },
            "colorscale": [
             [
              0,
              "#0d0887"
             ],
             [
              0.1111111111111111,
              "#46039f"
             ],
             [
              0.2222222222222222,
              "#7201a8"
             ],
             [
              0.3333333333333333,
              "#9c179e"
             ],
             [
              0.4444444444444444,
              "#bd3786"
             ],
             [
              0.5555555555555556,
              "#d8576b"
             ],
             [
              0.6666666666666666,
              "#ed7953"
             ],
             [
              0.7777777777777778,
              "#fb9f3a"
             ],
             [
              0.8888888888888888,
              "#fdca26"
             ],
             [
              1,
              "#f0f921"
             ]
            ],
            "type": "heatmap"
           }
          ],
          "heatmapgl": [
           {
            "colorbar": {
             "outlinewidth": 0,
             "ticks": ""
            },
            "colorscale": [
             [
              0,
              "#0d0887"
             ],
             [
              0.1111111111111111,
              "#46039f"
             ],
             [
              0.2222222222222222,
              "#7201a8"
             ],
             [
              0.3333333333333333,
              "#9c179e"
             ],
             [
              0.4444444444444444,
              "#bd3786"
             ],
             [
              0.5555555555555556,
              "#d8576b"
             ],
             [
              0.6666666666666666,
              "#ed7953"
             ],
             [
              0.7777777777777778,
              "#fb9f3a"
             ],
             [
              0.8888888888888888,
              "#fdca26"
             ],
             [
              1,
              "#f0f921"
             ]
            ],
            "type": "heatmapgl"
           }
          ],
          "histogram": [
           {
            "marker": {
             "pattern": {
              "fillmode": "overlay",
              "size": 10,
              "solidity": 0.2
             }
            },
            "type": "histogram"
           }
          ],
          "histogram2d": [
           {
            "colorbar": {
             "outlinewidth": 0,
             "ticks": ""
            },
            "colorscale": [
             [
              0,
              "#0d0887"
             ],
             [
              0.1111111111111111,
              "#46039f"
             ],
             [
              0.2222222222222222,
              "#7201a8"
             ],
             [
              0.3333333333333333,
              "#9c179e"
             ],
             [
              0.4444444444444444,
              "#bd3786"
             ],
             [
              0.5555555555555556,
              "#d8576b"
             ],
             [
              0.6666666666666666,
              "#ed7953"
             ],
             [
              0.7777777777777778,
              "#fb9f3a"
             ],
             [
              0.8888888888888888,
              "#fdca26"
             ],
             [
              1,
              "#f0f921"
             ]
            ],
            "type": "histogram2d"
           }
          ],
          "histogram2dcontour": [
           {
            "colorbar": {
             "outlinewidth": 0,
             "ticks": ""
            },
            "colorscale": [
             [
              0,
              "#0d0887"
             ],
             [
              0.1111111111111111,
              "#46039f"
             ],
             [
              0.2222222222222222,
              "#7201a8"
             ],
             [
              0.3333333333333333,
              "#9c179e"
             ],
             [
              0.4444444444444444,
              "#bd3786"
             ],
             [
              0.5555555555555556,
              "#d8576b"
             ],
             [
              0.6666666666666666,
              "#ed7953"
             ],
             [
              0.7777777777777778,
              "#fb9f3a"
             ],
             [
              0.8888888888888888,
              "#fdca26"
             ],
             [
              1,
              "#f0f921"
             ]
            ],
            "type": "histogram2dcontour"
           }
          ],
          "mesh3d": [
           {
            "colorbar": {
             "outlinewidth": 0,
             "ticks": ""
            },
            "type": "mesh3d"
           }
          ],
          "parcoords": [
           {
            "line": {
             "colorbar": {
              "outlinewidth": 0,
              "ticks": ""
             }
            },
            "type": "parcoords"
           }
          ],
          "pie": [
           {
            "automargin": true,
            "type": "pie"
           }
          ],
          "scatter": [
           {
            "fillpattern": {
             "fillmode": "overlay",
             "size": 10,
             "solidity": 0.2
            },
            "type": "scatter"
           }
          ],
          "scatter3d": [
           {
            "line": {
             "colorbar": {
              "outlinewidth": 0,
              "ticks": ""
             }
            },
            "marker": {
             "colorbar": {
              "outlinewidth": 0,
              "ticks": ""
             }
            },
            "type": "scatter3d"
           }
          ],
          "scattercarpet": [
           {
            "marker": {
             "colorbar": {
              "outlinewidth": 0,
              "ticks": ""
             }
            },
            "type": "scattercarpet"
           }
          ],
          "scattergeo": [
           {
            "marker": {
             "colorbar": {
              "outlinewidth": 0,
              "ticks": ""
             }
            },
            "type": "scattergeo"
           }
          ],
          "scattergl": [
           {
            "marker": {
             "colorbar": {
              "outlinewidth": 0,
              "ticks": ""
             }
            },
            "type": "scattergl"
           }
          ],
          "scattermapbox": [
           {
            "marker": {
             "colorbar": {
              "outlinewidth": 0,
              "ticks": ""
             }
            },
            "type": "scattermapbox"
           }
          ],
          "scatterpolar": [
           {
            "marker": {
             "colorbar": {
              "outlinewidth": 0,
              "ticks": ""
             }
            },
            "type": "scatterpolar"
           }
          ],
          "scatterpolargl": [
           {
            "marker": {
             "colorbar": {
              "outlinewidth": 0,
              "ticks": ""
             }
            },
            "type": "scatterpolargl"
           }
          ],
          "scatterternary": [
           {
            "marker": {
             "colorbar": {
              "outlinewidth": 0,
              "ticks": ""
             }
            },
            "type": "scatterternary"
           }
          ],
          "surface": [
           {
            "colorbar": {
             "outlinewidth": 0,
             "ticks": ""
            },
            "colorscale": [
             [
              0,
              "#0d0887"
             ],
             [
              0.1111111111111111,
              "#46039f"
             ],
             [
              0.2222222222222222,
              "#7201a8"
             ],
             [
              0.3333333333333333,
              "#9c179e"
             ],
             [
              0.4444444444444444,
              "#bd3786"
             ],
             [
              0.5555555555555556,
              "#d8576b"
             ],
             [
              0.6666666666666666,
              "#ed7953"
             ],
             [
              0.7777777777777778,
              "#fb9f3a"
             ],
             [
              0.8888888888888888,
              "#fdca26"
             ],
             [
              1,
              "#f0f921"
             ]
            ],
            "type": "surface"
           }
          ],
          "table": [
           {
            "cells": {
             "fill": {
              "color": "#EBF0F8"
             },
             "line": {
              "color": "white"
             }
            },
            "header": {
             "fill": {
              "color": "#C8D4E3"
             },
             "line": {
              "color": "white"
             }
            },
            "type": "table"
           }
          ]
         },
         "layout": {
          "annotationdefaults": {
           "arrowcolor": "#2a3f5f",
           "arrowhead": 0,
           "arrowwidth": 1
          },
          "autotypenumbers": "strict",
          "coloraxis": {
           "colorbar": {
            "outlinewidth": 0,
            "ticks": ""
           }
          },
          "colorscale": {
           "diverging": [
            [
             0,
             "#8e0152"
            ],
            [
             0.1,
             "#c51b7d"
            ],
            [
             0.2,
             "#de77ae"
            ],
            [
             0.3,
             "#f1b6da"
            ],
            [
             0.4,
             "#fde0ef"
            ],
            [
             0.5,
             "#f7f7f7"
            ],
            [
             0.6,
             "#e6f5d0"
            ],
            [
             0.7,
             "#b8e186"
            ],
            [
             0.8,
             "#7fbc41"
            ],
            [
             0.9,
             "#4d9221"
            ],
            [
             1,
             "#276419"
            ]
           ],
           "sequential": [
            [
             0,
             "#0d0887"
            ],
            [
             0.1111111111111111,
             "#46039f"
            ],
            [
             0.2222222222222222,
             "#7201a8"
            ],
            [
             0.3333333333333333,
             "#9c179e"
            ],
            [
             0.4444444444444444,
             "#bd3786"
            ],
            [
             0.5555555555555556,
             "#d8576b"
            ],
            [
             0.6666666666666666,
             "#ed7953"
            ],
            [
             0.7777777777777778,
             "#fb9f3a"
            ],
            [
             0.8888888888888888,
             "#fdca26"
            ],
            [
             1,
             "#f0f921"
            ]
           ],
           "sequentialminus": [
            [
             0,
             "#0d0887"
            ],
            [
             0.1111111111111111,
             "#46039f"
            ],
            [
             0.2222222222222222,
             "#7201a8"
            ],
            [
             0.3333333333333333,
             "#9c179e"
            ],
            [
             0.4444444444444444,
             "#bd3786"
            ],
            [
             0.5555555555555556,
             "#d8576b"
            ],
            [
             0.6666666666666666,
             "#ed7953"
            ],
            [
             0.7777777777777778,
             "#fb9f3a"
            ],
            [
             0.8888888888888888,
             "#fdca26"
            ],
            [
             1,
             "#f0f921"
            ]
           ]
          },
          "colorway": [
           "#636efa",
           "#EF553B",
           "#00cc96",
           "#ab63fa",
           "#FFA15A",
           "#19d3f3",
           "#FF6692",
           "#B6E880",
           "#FF97FF",
           "#FECB52"
          ],
          "font": {
           "color": "#2a3f5f"
          },
          "geo": {
           "bgcolor": "white",
           "lakecolor": "white",
           "landcolor": "#E5ECF6",
           "showlakes": true,
           "showland": true,
           "subunitcolor": "white"
          },
          "hoverlabel": {
           "align": "left"
          },
          "hovermode": "closest",
          "mapbox": {
           "style": "light"
          },
          "paper_bgcolor": "white",
          "plot_bgcolor": "#E5ECF6",
          "polar": {
           "angularaxis": {
            "gridcolor": "white",
            "linecolor": "white",
            "ticks": ""
           },
           "bgcolor": "#E5ECF6",
           "radialaxis": {
            "gridcolor": "white",
            "linecolor": "white",
            "ticks": ""
           }
          },
          "scene": {
           "xaxis": {
            "backgroundcolor": "#E5ECF6",
            "gridcolor": "white",
            "gridwidth": 2,
            "linecolor": "white",
            "showbackground": true,
            "ticks": "",
            "zerolinecolor": "white"
           },
           "yaxis": {
            "backgroundcolor": "#E5ECF6",
            "gridcolor": "white",
            "gridwidth": 2,
            "linecolor": "white",
            "showbackground": true,
            "ticks": "",
            "zerolinecolor": "white"
           },
           "zaxis": {
            "backgroundcolor": "#E5ECF6",
            "gridcolor": "white",
            "gridwidth": 2,
            "linecolor": "white",
            "showbackground": true,
            "ticks": "",
            "zerolinecolor": "white"
           }
          },
          "shapedefaults": {
           "line": {
            "color": "#2a3f5f"
           }
          },
          "ternary": {
           "aaxis": {
            "gridcolor": "white",
            "linecolor": "white",
            "ticks": ""
           },
           "baxis": {
            "gridcolor": "white",
            "linecolor": "white",
            "ticks": ""
           },
           "bgcolor": "#E5ECF6",
           "caxis": {
            "gridcolor": "white",
            "linecolor": "white",
            "ticks": ""
           }
          },
          "title": {
           "x": 0.05
          },
          "xaxis": {
           "automargin": true,
           "gridcolor": "white",
           "linecolor": "white",
           "ticks": "",
           "title": {
            "standoff": 15
           },
           "zerolinecolor": "white",
           "zerolinewidth": 2
          },
          "yaxis": {
           "automargin": true,
           "gridcolor": "white",
           "linecolor": "white",
           "ticks": "",
           "title": {
            "standoff": 15
           },
           "zerolinecolor": "white",
           "zerolinewidth": 2
          }
         }
        },
        "xaxis": {
         "anchor": "y",
         "domain": [
          0,
          1
         ],
         "title": {
          "text": "Sigma_IOU"
         }
        },
        "yaxis": {
         "anchor": "x",
         "domain": [
          0,
          1
         ],
         "title": {
          "text": "Anzahl"
         }
        }
       }
      }
     },
     "metadata": {},
     "output_type": "display_data"
    }
   ],
   "source": [
    "import plotly.express as px\n",
    "import nbformat\n",
    "\n",
    "\n",
    "fig = px.bar(data[data['road_user_type'] == 'pedestrian'], x='Sigma_IOU', y='Anzahl',\n",
    "             color='Event', \n",
    "            #  barmode='group',\n",
    "            #  category_orders='road_user_type'\n",
    "            )\n",
    "fig.show()"
   ]
  }
 ],
 "metadata": {
  "kernelspec": {
   "display_name": "venv",
   "language": "python",
   "name": "python3"
  },
  "language_info": {
   "codemirror_mode": {
    "name": "ipython",
    "version": 3
   },
   "file_extension": ".py",
   "mimetype": "text/x-python",
   "name": "python",
   "nbconvert_exporter": "python",
   "pygments_lexer": "ipython3",
   "version": "3.10.7"
  }
 },
 "nbformat": 4,
 "nbformat_minor": 2
}
