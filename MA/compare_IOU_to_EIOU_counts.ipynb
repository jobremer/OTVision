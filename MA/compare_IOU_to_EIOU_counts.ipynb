{
 "cells": [
  {
   "cell_type": "code",
   "execution_count": 74,
   "metadata": {},
   "outputs": [
    {
     "data": {
      "application/vnd.plotly.v1+json": {
       "config": {
        "plotlyServerURL": "https://plot.ly"
       },
       "data": [
        {
         "alignmentgroup": "True",
         "hovertemplate": "Modus=EIOU<br>Verkehrsmittel=%{x}<br>Anzahl=%{y}<extra></extra>",
         "legendgroup": "EIOU",
         "marker": {
          "color": "#636efa",
          "pattern": {
           "shape": ""
          }
         },
         "name": "EIOU",
         "offsetgroup": "EIOU",
         "orientation": "v",
         "showlegend": true,
         "textposition": "auto",
         "texttemplate": "%{y}",
         "type": "bar",
         "x": [
          "bicycle",
          "car",
          "other",
          "pedestrian",
          "scooter_driver"
         ],
         "xaxis": "x",
         "y": [
          45,
          24,
          1,
          109,
          3
         ],
         "yaxis": "y"
        },
        {
         "alignmentgroup": "True",
         "hovertemplate": "Modus=GT<br>Verkehrsmittel=%{x}<br>Anzahl=%{y}<extra></extra>",
         "legendgroup": "GT",
         "marker": {
          "color": "#EF553B",
          "pattern": {
           "shape": ""
          }
         },
         "name": "GT",
         "offsetgroup": "GT",
         "orientation": "v",
         "showlegend": true,
         "textposition": "auto",
         "texttemplate": "%{y}",
         "type": "bar",
         "x": [
          "bicycle",
          "car",
          "other",
          "pedestrian",
          "scooter_driver"
         ],
         "xaxis": "x",
         "y": [
          55,
          26,
          7,
          209,
          2
         ],
         "yaxis": "y"
        },
        {
         "alignmentgroup": "True",
         "hovertemplate": "Modus=IOU<br>Verkehrsmittel=%{x}<br>Anzahl=%{y}<extra></extra>",
         "legendgroup": "IOU",
         "marker": {
          "color": "#00cc96",
          "pattern": {
           "shape": ""
          }
         },
         "name": "IOU",
         "offsetgroup": "IOU",
         "orientation": "v",
         "showlegend": true,
         "textposition": "auto",
         "texttemplate": "%{y}",
         "type": "bar",
         "x": [
          "bicycle",
          "car",
          "other",
          "pedestrian",
          "scooter_driver"
         ],
         "xaxis": "x",
         "y": [
          43,
          24,
          0,
          102,
          2
         ],
         "yaxis": "y"
        }
       ],
       "layout": {
        "barmode": "group",
        "height": 600,
        "legend": {
         "title": {
          "text": "Modus"
         },
         "tracegroupgap": 0
        },
        "margin": {
         "t": 60
        },
        "template": {
         "data": {
          "bar": [
           {
            "error_x": {
             "color": "#2a3f5f"
            },
            "error_y": {
             "color": "#2a3f5f"
            },
            "marker": {
             "line": {
              "color": "#E5ECF6",
              "width": 0.5
             },
             "pattern": {
              "fillmode": "overlay",
              "size": 10,
              "solidity": 0.2
             }
            },
            "type": "bar"
           }
          ],
          "barpolar": [
           {
            "marker": {
             "line": {
              "color": "#E5ECF6",
              "width": 0.5
             },
             "pattern": {
              "fillmode": "overlay",
              "size": 10,
              "solidity": 0.2
             }
            },
            "type": "barpolar"
           }
          ],
          "carpet": [
           {
            "aaxis": {
             "endlinecolor": "#2a3f5f",
             "gridcolor": "white",
             "linecolor": "white",
             "minorgridcolor": "white",
             "startlinecolor": "#2a3f5f"
            },
            "baxis": {
             "endlinecolor": "#2a3f5f",
             "gridcolor": "white",
             "linecolor": "white",
             "minorgridcolor": "white",
             "startlinecolor": "#2a3f5f"
            },
            "type": "carpet"
           }
          ],
          "choropleth": [
           {
            "colorbar": {
             "outlinewidth": 0,
             "ticks": ""
            },
            "type": "choropleth"
           }
          ],
          "contour": [
           {
            "colorbar": {
             "outlinewidth": 0,
             "ticks": ""
            },
            "colorscale": [
             [
              0,
              "#0d0887"
             ],
             [
              0.1111111111111111,
              "#46039f"
             ],
             [
              0.2222222222222222,
              "#7201a8"
             ],
             [
              0.3333333333333333,
              "#9c179e"
             ],
             [
              0.4444444444444444,
              "#bd3786"
             ],
             [
              0.5555555555555556,
              "#d8576b"
             ],
             [
              0.6666666666666666,
              "#ed7953"
             ],
             [
              0.7777777777777778,
              "#fb9f3a"
             ],
             [
              0.8888888888888888,
              "#fdca26"
             ],
             [
              1,
              "#f0f921"
             ]
            ],
            "type": "contour"
           }
          ],
          "contourcarpet": [
           {
            "colorbar": {
             "outlinewidth": 0,
             "ticks": ""
            },
            "type": "contourcarpet"
           }
          ],
          "heatmap": [
           {
            "colorbar": {
             "outlinewidth": 0,
             "ticks": ""
            },
            "colorscale": [
             [
              0,
              "#0d0887"
             ],
             [
              0.1111111111111111,
              "#46039f"
             ],
             [
              0.2222222222222222,
              "#7201a8"
             ],
             [
              0.3333333333333333,
              "#9c179e"
             ],
             [
              0.4444444444444444,
              "#bd3786"
             ],
             [
              0.5555555555555556,
              "#d8576b"
             ],
             [
              0.6666666666666666,
              "#ed7953"
             ],
             [
              0.7777777777777778,
              "#fb9f3a"
             ],
             [
              0.8888888888888888,
              "#fdca26"
             ],
             [
              1,
              "#f0f921"
             ]
            ],
            "type": "heatmap"
           }
          ],
          "heatmapgl": [
           {
            "colorbar": {
             "outlinewidth": 0,
             "ticks": ""
            },
            "colorscale": [
             [
              0,
              "#0d0887"
             ],
             [
              0.1111111111111111,
              "#46039f"
             ],
             [
              0.2222222222222222,
              "#7201a8"
             ],
             [
              0.3333333333333333,
              "#9c179e"
             ],
             [
              0.4444444444444444,
              "#bd3786"
             ],
             [
              0.5555555555555556,
              "#d8576b"
             ],
             [
              0.6666666666666666,
              "#ed7953"
             ],
             [
              0.7777777777777778,
              "#fb9f3a"
             ],
             [
              0.8888888888888888,
              "#fdca26"
             ],
             [
              1,
              "#f0f921"
             ]
            ],
            "type": "heatmapgl"
           }
          ],
          "histogram": [
           {
            "marker": {
             "pattern": {
              "fillmode": "overlay",
              "size": 10,
              "solidity": 0.2
             }
            },
            "type": "histogram"
           }
          ],
          "histogram2d": [
           {
            "colorbar": {
             "outlinewidth": 0,
             "ticks": ""
            },
            "colorscale": [
             [
              0,
              "#0d0887"
             ],
             [
              0.1111111111111111,
              "#46039f"
             ],
             [
              0.2222222222222222,
              "#7201a8"
             ],
             [
              0.3333333333333333,
              "#9c179e"
             ],
             [
              0.4444444444444444,
              "#bd3786"
             ],
             [
              0.5555555555555556,
              "#d8576b"
             ],
             [
              0.6666666666666666,
              "#ed7953"
             ],
             [
              0.7777777777777778,
              "#fb9f3a"
             ],
             [
              0.8888888888888888,
              "#fdca26"
             ],
             [
              1,
              "#f0f921"
             ]
            ],
            "type": "histogram2d"
           }
          ],
          "histogram2dcontour": [
           {
            "colorbar": {
             "outlinewidth": 0,
             "ticks": ""
            },
            "colorscale": [
             [
              0,
              "#0d0887"
             ],
             [
              0.1111111111111111,
              "#46039f"
             ],
             [
              0.2222222222222222,
              "#7201a8"
             ],
             [
              0.3333333333333333,
              "#9c179e"
             ],
             [
              0.4444444444444444,
              "#bd3786"
             ],
             [
              0.5555555555555556,
              "#d8576b"
             ],
             [
              0.6666666666666666,
              "#ed7953"
             ],
             [
              0.7777777777777778,
              "#fb9f3a"
             ],
             [
              0.8888888888888888,
              "#fdca26"
             ],
             [
              1,
              "#f0f921"
             ]
            ],
            "type": "histogram2dcontour"
           }
          ],
          "mesh3d": [
           {
            "colorbar": {
             "outlinewidth": 0,
             "ticks": ""
            },
            "type": "mesh3d"
           }
          ],
          "parcoords": [
           {
            "line": {
             "colorbar": {
              "outlinewidth": 0,
              "ticks": ""
             }
            },
            "type": "parcoords"
           }
          ],
          "pie": [
           {
            "automargin": true,
            "type": "pie"
           }
          ],
          "scatter": [
           {
            "fillpattern": {
             "fillmode": "overlay",
             "size": 10,
             "solidity": 0.2
            },
            "type": "scatter"
           }
          ],
          "scatter3d": [
           {
            "line": {
             "colorbar": {
              "outlinewidth": 0,
              "ticks": ""
             }
            },
            "marker": {
             "colorbar": {
              "outlinewidth": 0,
              "ticks": ""
             }
            },
            "type": "scatter3d"
           }
          ],
          "scattercarpet": [
           {
            "marker": {
             "colorbar": {
              "outlinewidth": 0,
              "ticks": ""
             }
            },
            "type": "scattercarpet"
           }
          ],
          "scattergeo": [
           {
            "marker": {
             "colorbar": {
              "outlinewidth": 0,
              "ticks": ""
             }
            },
            "type": "scattergeo"
           }
          ],
          "scattergl": [
           {
            "marker": {
             "colorbar": {
              "outlinewidth": 0,
              "ticks": ""
             }
            },
            "type": "scattergl"
           }
          ],
          "scattermapbox": [
           {
            "marker": {
             "colorbar": {
              "outlinewidth": 0,
              "ticks": ""
             }
            },
            "type": "scattermapbox"
           }
          ],
          "scatterpolar": [
           {
            "marker": {
             "colorbar": {
              "outlinewidth": 0,
              "ticks": ""
             }
            },
            "type": "scatterpolar"
           }
          ],
          "scatterpolargl": [
           {
            "marker": {
             "colorbar": {
              "outlinewidth": 0,
              "ticks": ""
             }
            },
            "type": "scatterpolargl"
           }
          ],
          "scatterternary": [
           {
            "marker": {
             "colorbar": {
              "outlinewidth": 0,
              "ticks": ""
             }
            },
            "type": "scatterternary"
           }
          ],
          "surface": [
           {
            "colorbar": {
             "outlinewidth": 0,
             "ticks": ""
            },
            "colorscale": [
             [
              0,
              "#0d0887"
             ],
             [
              0.1111111111111111,
              "#46039f"
             ],
             [
              0.2222222222222222,
              "#7201a8"
             ],
             [
              0.3333333333333333,
              "#9c179e"
             ],
             [
              0.4444444444444444,
              "#bd3786"
             ],
             [
              0.5555555555555556,
              "#d8576b"
             ],
             [
              0.6666666666666666,
              "#ed7953"
             ],
             [
              0.7777777777777778,
              "#fb9f3a"
             ],
             [
              0.8888888888888888,
              "#fdca26"
             ],
             [
              1,
              "#f0f921"
             ]
            ],
            "type": "surface"
           }
          ],
          "table": [
           {
            "cells": {
             "fill": {
              "color": "#EBF0F8"
             },
             "line": {
              "color": "white"
             }
            },
            "header": {
             "fill": {
              "color": "#C8D4E3"
             },
             "line": {
              "color": "white"
             }
            },
            "type": "table"
           }
          ]
         },
         "layout": {
          "annotationdefaults": {
           "arrowcolor": "#2a3f5f",
           "arrowhead": 0,
           "arrowwidth": 1
          },
          "autotypenumbers": "strict",
          "coloraxis": {
           "colorbar": {
            "outlinewidth": 0,
            "ticks": ""
           }
          },
          "colorscale": {
           "diverging": [
            [
             0,
             "#8e0152"
            ],
            [
             0.1,
             "#c51b7d"
            ],
            [
             0.2,
             "#de77ae"
            ],
            [
             0.3,
             "#f1b6da"
            ],
            [
             0.4,
             "#fde0ef"
            ],
            [
             0.5,
             "#f7f7f7"
            ],
            [
             0.6,
             "#e6f5d0"
            ],
            [
             0.7,
             "#b8e186"
            ],
            [
             0.8,
             "#7fbc41"
            ],
            [
             0.9,
             "#4d9221"
            ],
            [
             1,
             "#276419"
            ]
           ],
           "sequential": [
            [
             0,
             "#0d0887"
            ],
            [
             0.1111111111111111,
             "#46039f"
            ],
            [
             0.2222222222222222,
             "#7201a8"
            ],
            [
             0.3333333333333333,
             "#9c179e"
            ],
            [
             0.4444444444444444,
             "#bd3786"
            ],
            [
             0.5555555555555556,
             "#d8576b"
            ],
            [
             0.6666666666666666,
             "#ed7953"
            ],
            [
             0.7777777777777778,
             "#fb9f3a"
            ],
            [
             0.8888888888888888,
             "#fdca26"
            ],
            [
             1,
             "#f0f921"
            ]
           ],
           "sequentialminus": [
            [
             0,
             "#0d0887"
            ],
            [
             0.1111111111111111,
             "#46039f"
            ],
            [
             0.2222222222222222,
             "#7201a8"
            ],
            [
             0.3333333333333333,
             "#9c179e"
            ],
            [
             0.4444444444444444,
             "#bd3786"
            ],
            [
             0.5555555555555556,
             "#d8576b"
            ],
            [
             0.6666666666666666,
             "#ed7953"
            ],
            [
             0.7777777777777778,
             "#fb9f3a"
            ],
            [
             0.8888888888888888,
             "#fdca26"
            ],
            [
             1,
             "#f0f921"
            ]
           ]
          },
          "colorway": [
           "#636efa",
           "#EF553B",
           "#00cc96",
           "#ab63fa",
           "#FFA15A",
           "#19d3f3",
           "#FF6692",
           "#B6E880",
           "#FF97FF",
           "#FECB52"
          ],
          "font": {
           "color": "#2a3f5f"
          },
          "geo": {
           "bgcolor": "white",
           "lakecolor": "white",
           "landcolor": "#E5ECF6",
           "showlakes": true,
           "showland": true,
           "subunitcolor": "white"
          },
          "hoverlabel": {
           "align": "left"
          },
          "hovermode": "closest",
          "mapbox": {
           "style": "light"
          },
          "paper_bgcolor": "white",
          "plot_bgcolor": "#E5ECF6",
          "polar": {
           "angularaxis": {
            "gridcolor": "white",
            "linecolor": "white",
            "ticks": ""
           },
           "bgcolor": "#E5ECF6",
           "radialaxis": {
            "gridcolor": "white",
            "linecolor": "white",
            "ticks": ""
           }
          },
          "scene": {
           "xaxis": {
            "backgroundcolor": "#E5ECF6",
            "gridcolor": "white",
            "gridwidth": 2,
            "linecolor": "white",
            "showbackground": true,
            "ticks": "",
            "zerolinecolor": "white"
           },
           "yaxis": {
            "backgroundcolor": "#E5ECF6",
            "gridcolor": "white",
            "gridwidth": 2,
            "linecolor": "white",
            "showbackground": true,
            "ticks": "",
            "zerolinecolor": "white"
           },
           "zaxis": {
            "backgroundcolor": "#E5ECF6",
            "gridcolor": "white",
            "gridwidth": 2,
            "linecolor": "white",
            "showbackground": true,
            "ticks": "",
            "zerolinecolor": "white"
           }
          },
          "shapedefaults": {
           "line": {
            "color": "#2a3f5f"
           }
          },
          "ternary": {
           "aaxis": {
            "gridcolor": "white",
            "linecolor": "white",
            "ticks": ""
           },
           "baxis": {
            "gridcolor": "white",
            "linecolor": "white",
            "ticks": ""
           },
           "bgcolor": "#E5ECF6",
           "caxis": {
            "gridcolor": "white",
            "linecolor": "white",
            "ticks": ""
           }
          },
          "title": {
           "x": 0.05
          },
          "xaxis": {
           "automargin": true,
           "gridcolor": "white",
           "linecolor": "white",
           "ticks": "",
           "title": {
            "standoff": 15
           },
           "zerolinecolor": "white",
           "zerolinewidth": 2
          },
          "yaxis": {
           "automargin": true,
           "gridcolor": "white",
           "linecolor": "white",
           "ticks": "",
           "title": {
            "standoff": 15
           },
           "zerolinecolor": "white",
           "zerolinewidth": 2
          }
         }
        },
        "width": 1000,
        "xaxis": {
         "anchor": "y",
         "categoryorder": "total descending",
         "domain": [
          0,
          1
         ],
         "title": {
          "text": "Verkehrsmittel"
         }
        },
        "yaxis": {
         "anchor": "x",
         "domain": [
          0,
          1
         ],
         "title": {
          "text": "Anzahl"
         }
        }
       }
      }
     },
     "metadata": {},
     "output_type": "display_data"
    }
   ],
   "source": [
    "%reset -f\n",
    "\n",
    "import os\n",
    "import pandas as pd\n",
    "import matplotlib.pyplot as plt\n",
    "import bz2\n",
    "import ujson\n",
    "import plotly.express as px\n",
    "import kaleido\n",
    "\n",
    "\n",
    "# # Fußverkehrsaufkommen - OTC07\n",
    "# directory = \"Z:/04_Daten/GroundThruth/Fussverkehrausfkommen/OTC07_23-09-19_17-00-00/\"\n",
    "# IOU_files = ['OTCamera07_FR20_2023-09-19_17-00-00_IOU.counts_15min.csv']\n",
    "# EIOU_files = ['OTCamera07_FR20_2023-09-19_17-00-00_EIOU.counts_15min.csv']\n",
    "# GT_files = ['OTCamera07_FR20_2023-09-19_17-00-00.otgtevents']\n",
    "# GTbool = True\n",
    "\n",
    "# # Fußverkehrsaufkommen - OTC13\n",
    "directory = \"Z:/04_Daten/GroundThruth/Fussverkehrausfkommen/OTC13_23-10-22_17-00-00/\"\n",
    "IOU_files = ['OTCamera13_FR20_2023-10-22_17-00-00_IOU.counts_15min.csv']\n",
    "EIOU_files = ['OTCamera13_FR20_2023-10-22_17-00-00_EIOU.counts_15min.csv']\n",
    "GT_files = ['OTCamera13_FR20_2023-10-22_17-00-00.otgtevents']\n",
    "GTbool = True\n",
    "\n",
    "\n",
    "# # Leipzig - OTC07\n",
    "# directory = \"Z:/04_Daten/GroundThruth/Leipzig/OTC07/\"\n",
    "# IOU_files = ['OTCamera07_FR20_2022-10-31_16-30-00_IOU.counts_15min.csv']\n",
    "# EIOU_files = ['OTCamera07_FR20_2022-10-31_16-30-00_EIOU.counts_15min.csv']\n",
    "# GT_files = ['OTCamera07_FR20_2022-10-31_16-30-00.otgtevents']\n",
    "# GTbool = True\n",
    "\n",
    "# # Leipzig - OTC19\n",
    "# directory = \"Z:/04_Daten/GroundThruth/Leipzig/OTC19/\"\n",
    "# IOU_files = ['OTCamera19_FR20_2023-05-24_07-00-00_IOU.counts_15min.csv',\n",
    "#              'OTCamera19_FR20_2023-05-24_07-15-00_IOU.counts_15min.csv']\n",
    "# EIOU_files = ['OTCamera19_FR20_2023-05-24_07-00-00_EIOU.counts_15min.csv',\n",
    "#              'OTCamera19_FR20_2023-05-24_07-15-00_EIOU.counts_15min.csv']\n",
    "# GT_files = ['OTCamera19_FR20_2023-05-24_07-00-00.otgtevents']\n",
    "# GTbool = True\n",
    "\n",
    "\n",
    "\n",
    "# # Saarbrücken - OTC15\n",
    "# directory = \"Z:/04_Daten/GroundThruth/Saarbruecken/OTC15/\"\n",
    "# IOU_files = ['OTCamera15_FR20_2022-10-17_16-00-00_IOU.counts_15min.csv']\n",
    "# EIOU_files = ['OTCamera15_FR20_2022-10-17_16-00-00_EIOU.counts_15min.csv']\n",
    "# GT_files = ['.otgtevents']\n",
    "# GTbool = False\n",
    "\n",
    "# # Saarbrücken - OTC17\n",
    "# directory = \"Z:/04_Daten/GroundThruth/Saarbruecken/OTC17/\"\n",
    "# IOU_files = ['OTCamera17_FR20_2022-10-19_17-15-00_IOU.counts_15min.csv',]\n",
    "# EIOU_files = ['OTCamera17_FR20_2022-10-19_17-15-00_EIOU.counts_15min.csv',]\n",
    "# GT_files = ['OTCamera17_FR20_2022-10-19_17-15-00.otgtevents',]\n",
    "# GTbool = True\n",
    "\n",
    "# # TUD\n",
    "# directory = \"Z:/04_Daten/GroundThruth/Videos_TUD/\"\n",
    "# IOU_files = ['otcamera-tud03_FR20_2023-10-26_08-00-00_IOU.counts_15min.csv',\n",
    "#              'otcamera-tud03_FR20_2023-10-26_08-15-00_IOU.counts_15min.csv',\n",
    "#              'otcamera-tud03_FR20_2023-10-26_08-30-00_IOU.counts_15min.csv',\n",
    "#              'otcamera-tud03_FR20_2023-10-26_08-45-00_IOU.counts_15min.csv']\n",
    "# EIOU_files = ['otcamera-tud03_FR20_2023-10-26_08-00-00_EIOU.counts_15min.csv',\n",
    "#               'otcamera-tud03_FR20_2023-10-26_08-15-00_EIOU.counts_15min.csv',\n",
    "#               'otcamera-tud03_FR20_2023-10-26_08-30-00_EIOU.counts_15min.csv',\n",
    "#               'otcamera-tud03_FR20_2023-10-26_08-45-00_EIOU.counts_15min.csv']\n",
    "# GT_files = ['otcamera-tud03_FR20_2023-10-26_08-00-00.otgtevents',\n",
    "#             'otcamera-tud03_FR20_2023-10-26_08-15-00.otgtevents',\n",
    "#             'otcamera-tud03_FR20_2023-10-26_08-30-00.otgtevents',\n",
    "#             'otcamera-tud03_FR20_2023-10-26_08-45-00.otgtevents']\n",
    "# GTbool = True\n",
    "\n",
    "\n",
    "def compare_EIOU_IOU_GT(directory, IOU_files, EIOU_files, GT_files, GT = True):\n",
    "    df_IOU = pd.DataFrame()\n",
    "    for file in IOU_files:\n",
    "        df = pd.read_csv(directory + file)\n",
    "        df_IOU = pd.concat([df_IOU, df])\n",
    "\n",
    "    df_EIOU = pd.DataFrame()\n",
    "    for file in EIOU_files:\n",
    "        df = pd.read_csv(directory + file)\n",
    "        df_EIOU = pd.concat([df_EIOU, df])\n",
    "    del file, df\n",
    "\n",
    "    df_IOU = df_IOU[['start occurrence time', 'classification', 'flow', 'count']].rename(columns={'count': 'IOU'})\n",
    "    df_EIOU = df_EIOU[['start occurrence time', 'classification', 'flow', 'count']].rename(columns={'count': 'EIOU'})\n",
    "    \n",
    "\n",
    "    COUNTS = pd.merge(df_IOU, df_EIOU, on = ['start occurrence time', 'classification', 'flow'])\n",
    "    del df_IOU, df_EIOU\n",
    "    \n",
    "    if GT == True:\n",
    "        df_GT = pd.DataFrame()\n",
    "        for file in GT_files:\n",
    "            with bz2.open(directory + file, \"rt\", encoding=\"UTF-8\") as file:\n",
    "                dictfile = ujson.load(file)\n",
    "                \n",
    "                SECTIONS = pd.DataFrame.from_dict(dictfile['sections'])\n",
    "                EVENTS = pd.DataFrame.from_dict(dictfile['event_list'])\n",
    "                EVENTS = pd.merge(EVENTS, SECTIONS, left_on='section_id', right_on='id')\n",
    "                enter_events = EVENTS.groupby('road_user_id').first().rename(columns={'name': 'name_enter'}).reset_index()\n",
    "                exit_events = EVENTS.groupby('road_user_id').last().rename(columns={'name': 'name_exit'}).reset_index()\n",
    "                \n",
    "                exit_events = exit_events[['road_user_id', 'name_exit']]\n",
    "                \n",
    "                GTEVENTS = pd.merge(enter_events, exit_events, on = 'road_user_id').rename(columns={'road_user_type': 'classification'})\n",
    "                del enter_events, exit_events\n",
    "                \n",
    "                GTEVENTS['flow'] = GTEVENTS['name_enter'] + \" --> \" + GTEVENTS['name_exit']\n",
    "                GTEVENTS['start occurrence time'] = GTEVENTS['video_name'].str[-13:-5]\n",
    "                GTEVENTS['start occurrence time'] = GTEVENTS['start occurrence time'].str.replace('-',':')\n",
    "                \n",
    "                df_GT = pd.concat([df_GT, GTEVENTS])\n",
    "                \n",
    "                \n",
    "        del dictfile, SECTIONS, EVENTS, GTEVENTS,\n",
    "\n",
    "        GTCOUNTS = df_GT.groupby(['start occurrence time', 'classification', 'flow'])['type'].count().reset_index().rename(columns={'type': 'GT'})\n",
    "        COUNTS = pd.merge(COUNTS, GTCOUNTS, on = ['start occurrence time', 'classification', 'flow'])\n",
    "    else:\n",
    "        print('Keine GT')\n",
    "        \n",
    "\n",
    "    # COUNTS = COUNTS[COUNTS['classification'] != 'pedestrian']\n",
    "    # COUNTS = COUNTS[COUNTS['classification'] != 'other']\n",
    "    # Klassen zusammenfassen\n",
    "    COUNTS['classification_2'] = COUNTS['classification'].replace({'car': 'car',\n",
    "                                                                'car_with_trailer': 'car',\n",
    "                                                                'delivery_van': 'van',\n",
    "                                                                'private_van': 'van',\n",
    "                                                                'delivery_van_with_trailer': 'van',\n",
    "                                                                'private_van_with_trailer': 'van',\n",
    "                                                                'truck': 'truck',\n",
    "                                                                'truck_with_trailer': 'truck',\n",
    "                                                                'truck_with_semitrailer': 'truck',\n",
    "                                                                'bus': 'bus',\n",
    "                                                                'bicyclist': 'bicycle',\n",
    "                                                                'bicyclist_with_trailer': 'bicycle',\n",
    "                                                                'motorcyclist': 'motorcycle',                                                                                                                        \n",
    "                                                                })\n",
    "    \n",
    "    \n",
    "\n",
    "\n",
    "    if GT == True:\n",
    "        valuevars = ['IOU', 'EIOU', 'GT']\n",
    "    else:\n",
    "        valuevars = ['IOU', 'EIOU']\n",
    "    \n",
    "    COUNTS_long = pd.melt(COUNTS, id_vars=['classification_2', 'flow'], value_vars=valuevars).rename(columns={'classification_2': 'Verkehrsmittel',\n",
    "                                                                                                                'variable': 'Modus',\n",
    "                                                                                                                'value': 'Anzahl'})\n",
    "    fig = px.bar(COUNTS_long.groupby(['Verkehrsmittel', 'Modus'])[['Anzahl']].sum().reset_index(), \n",
    "             x=\"Verkehrsmittel\", \n",
    "             y=\"Anzahl\", \n",
    "             color='Modus', \n",
    "             barmode='group',\n",
    "             width=1000,\n",
    "             height=600,\n",
    "             text_auto=True).update_layout(xaxis={'categoryorder':'total descending'})\n",
    "    fig.show()\n",
    "    # try:\n",
    "    #     fig.write_image(directory + \"/COUNTS.png\")\n",
    "    # except:\n",
    "    #     print('Bild noch offen')\n",
    "        \n",
    "    try:\n",
    "        COUNTS_long.to_csv(directory + \"COUNTS_final.csv\", sep=';')\n",
    "    except:\n",
    "        print('Datei noch offen!')\n",
    "    \n",
    "    \n",
    "    return COUNTS_long\n",
    "\n",
    "COUNTS = compare_EIOU_IOU_GT(directory, IOU_files, EIOU_files, GT_files, GT = GTbool)\n",
    "\n"
   ]
  },
  {
   "cell_type": "markdown",
   "metadata": {},
   "source": [
    "- Visualisierung"
   ]
  },
  {
   "cell_type": "code",
   "execution_count": 77,
   "metadata": {},
   "outputs": [],
   "source": [
    "COUNTFILES = [\"Z:/04_Daten/GroundThruth/Leipzig/OTC07/COUNTS_final.csv\",\n",
    "              \"Z:/04_Daten/GroundThruth/Leipzig/OTC19/COUNTS_final.csv\",\n",
    "              \"Z:/04_Daten/GroundThruth/Saarbruecken/OTC15/COUNTS_final.csv\",\n",
    "              \"Z:/04_Daten/GroundThruth/Saarbruecken/OTC17/COUNTS_final.csv\",\n",
    "              \"Z:/04_Daten/GroundThruth/Fussverkehrausfkommen/OTC07_23-09-19_17-00-00/COUNTS_final.csv\",\n",
    "              \"Z:/04_Daten/GroundThruth/Fussverkehrausfkommen/OTC13_23-10-22_17-00-00/COUNTS_final_OTC13.csv\",\n",
    "              \"Z:/04_Daten/GroundThruth/Videos_TUD/COUNTS_final.csv\"\n",
    "              ]\n",
    "\n",
    "COUNTS_GES = pd.DataFrame()\n",
    "for file in COUNTFILES:\n",
    "    df = pd.read_csv(file, sep=';')\n",
    "    df['file'] = file\n",
    "    COUNTS_GES = pd.concat([COUNTS_GES, df])\n",
    "\n",
    "# COUNTS_GES.to_csv(\"Z:/04_Daten/GroundThruth/GT_Uebersicht.csv\", sep=\";\")\n",
    "\n",
    "dings = COUNTS_GES.groupby('file')['Anzahl'].sum().reset_index()\n",
    "\n",
    "COUNTS_SUM = COUNTS_GES.groupby(['file', 'Modus', 'Verkehrsmittel', 'flow'])['Anzahl'].sum().reset_index()\n",
    "\n",
    "fig = px.bar(COUNTS_SUM, \n",
    "             x=\"Verkehrsmittel\", \n",
    "             y=\"Anzahl\", \n",
    "             color='Modus', \n",
    "             barmode='group',\n",
    "             width=1000,\n",
    "             height=600,\n",
    "             text_auto=True).update_layout(xaxis={'categoryorder':'total descending'})\n",
    "# fig.show()\n"
   ]
  }
 ],
 "metadata": {
  "kernelspec": {
   "display_name": "venv",
   "language": "python",
   "name": "python3"
  },
  "language_info": {
   "codemirror_mode": {
    "name": "ipython",
    "version": 3
   },
   "file_extension": ".py",
   "mimetype": "text/x-python",
   "name": "python",
   "nbconvert_exporter": "python",
   "pygments_lexer": "ipython3",
   "version": "3.10.7"
  }
 },
 "nbformat": 4,
 "nbformat_minor": 2
}
