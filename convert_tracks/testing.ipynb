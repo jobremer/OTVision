{
 "cells": [
  {
   "cell_type": "code",
   "execution_count": 24,
   "metadata": {},
   "outputs": [],
   "source": [
    "import sys\n",
    "import os\n",
    "import bz2\n",
    "import csv\n",
    "import pandas as pd\n",
    "import ast\n",
    "import ujson\n",
    "import numpy as np\n",
    "\n",
    "import datashader as ds\n",
    "import datashader.transfer_functions as tf\n",
    "\n",
    "ENCODING = \"UTF-8\"\n",
    "\n",
    "# dirpath = \"Data/OTCamera/\"\n",
    "# filename = \"Testvideo_Cars-Cyclist_FR20_2020-01-01_00-00-00\"\n",
    "dirpath = \"Z:/04_Daten/GroundThruth/Fussverkehrausfkommen/OTC07_23-09-19_17-00-00/\"\n",
    "filename = \"OTCamera07_FR20_2023-09-19_17-00-00_Sued\"\n",
    "fileending = '.ottrk'\n",
    "filepath = os.path.join(dirpath, filename) + fileending"
   ]
  },
  {
   "cell_type": "code",
   "execution_count": null,
   "metadata": {},
   "outputs": [],
   "source": [
    "def ottrk_to_txt(filepath, key1 = 'data', key2 = 'detections'):\n",
    "    # Open ottrk-file\n",
    "    with bz2.open(filepath, \"rt\", encoding=ENCODING) as file:\n",
    "        dictfile = ujson.load(file)\n",
    "    \n",
    "    # Write in DataFrame\n",
    "    detections = pd.DataFrame.from_dict(dictfile[key1][key2])\n",
    "    detections = detections[['x', 'y', 'w', 'h', 'frame', 'track-id', 'class']] #bb_left = x, bb_top = y\n",
    "\n",
    "    # Transform to MOTChallenge-format (x,y,z are ignored fpr 2D-challenges)\n",
    "    MOTdetections = detections\n",
    "    MOTdetections['conf'] = 1\n",
    "    MOTdetections['3D_x'] = -1\n",
    "    MOTdetections['3D_y'] = -1\n",
    "    MOTdetections['3D_z'] = -1\n",
    "    MOTdetections = MOTdetections[['frame', 'track-id', 'x', 'y', 'h', 'w', 'conf', '3D_x', '3D_y', '3D_z']]\n",
    "\n",
    "    # Export\n",
    "    # MOTdetections.to_csv(dirpath + filename + '.txt', encoding='utf-8', header=False, index=False)\n",
    "\n",
    "    return detections, MOTdetections\n",
    "\n",
    "OTCdetections, MOTdetections = ottrk_to_txt(filepath = filepath)\n",
    "\n",
    "OTCdetections['sec'] = (OTCdetections['frame'] - OTCdetections['frame'].min()) / 20 #20fps\n"
   ]
  },
  {
   "cell_type": "code",
   "execution_count": 31,
   "metadata": {},
   "outputs": [
    {
     "name": "stdout",
     "output_type": "stream",
     "text": [
      "track-id\n",
      "12      107\n",
      "20        5\n",
      "22      262\n",
      "26        8\n",
      "30        2\n",
      "       ... \n",
      "1229      9\n",
      "1231      1\n",
      "1236      7\n",
      "1241      2\n",
      "1246     60\n",
      "Name: track-id, Length: 300, dtype: int64\n"
     ]
    }
   ],
   "source": [
    "# Frames filtern\n",
    "\n",
    "# data = detections[detections['frame'] >=3380]\n",
    "# data = data[data['frame'] <=5000]\n",
    "OTCdetections = OTCdetections[OTCdetections['class'] == 'pedestrian']\n",
    "\n",
    "print(OTCdetections.groupby(['track-id'])['track-id'].count())\n",
    "# print(data['track-id'].value_counts())\n",
    "# data = data[data['track-id'] == 14476]"
   ]
  },
  {
   "cell_type": "markdown",
   "metadata": {},
   "source": [
    "## Plotting"
   ]
  },
  {
   "cell_type": "code",
   "execution_count": 19,
   "metadata": {},
   "outputs": [
    {
     "name": "stdout",
     "output_type": "stream",
     "text": [
      "(10.378253936767578, 638.6010131835938)\n",
      "(80.53295135498047, 464.22369384765625)\n"
     ]
    }
   ],
   "source": [
    "\n",
    "plotdata = data\n",
    "plotdata['x'] = plotdata['x'] * -1\n",
    "plotdata['y'] = plotdata['y']\n",
    "# Default plot ranges:\n",
    "x_range = (plotdata['x'].min(), plotdata['x'].max())\n",
    "y_range = (plotdata['y'].min(), plotdata['y'].max())\n",
    "print(x_range)\n",
    "print(y_range)\n",
    "# x_range = (0, 1000)\n",
    "# y_range = (-1000, 0)\n",
    "plotdata = plotdata.sort_values(by=['track-id', 'frame'])\n",
    "\n",
    "# ids = plotdata.groupby('track-id')\n",
    "\n",
    "# for id in ids:\n",
    "#     print(id)\n",
    "\n",
    "def create_image(w=500, h=500):\n",
    "    cvs = ds.Canvas(x_range=x_range, y_range=y_range, plot_height=h, plot_width=w)\n",
    "    agg = cvs.line(plotdata, 'x', 'y', agg=ds.any())\n",
    "    return tf.shade(agg, cmap = 'white')\n",
    "\n",
    "# create_image()"
   ]
  },
  {
   "cell_type": "code",
   "execution_count": 58,
   "metadata": {},
   "outputs": [],
   "source": [
    "## OTEvents\n",
    "\n",
    "eventscsv = pd.read_csv(dirpath + 'events.csv')\n",
    "eventscsv = eventscsv[eventscsv['road_user_type'] == 'pedestrian']\n",
    "\n",
    "def events_to_txt(filepath, key1 = 'sections', key2 = 'event_list'):\n",
    "    # Open ottrk-file\n",
    "    with bz2.open(filepath, \"rt\", encoding=ENCODING) as file:\n",
    "        dictfile = ujson.load(file)\n",
    "\n",
    "    # Write in DataFrame\n",
    "    sections = pd.DataFrame.from_dict(dictfile['sections'])\n",
    "    events = pd.DataFrame.from_dict(dictfile['event_list'])\n",
    "    # detections = detections[['x', 'y', 'w', 'h', 'frame', 'track-id', 'class']] #bb_left = x, bb_top = y\n",
    "\n",
    "\n",
    "    # Export\n",
    "    # MOTdetections.to_csv(dirpath + filename + '.txt', encoding='utf-8', header=False, index=False)\n",
    "\n",
    "    return sections, events\n",
    "sections, events = events_to_txt(filepath = dirpath + 'events.otevents')\n",
    "\n",
    "events = events[events['road_user_type'] == 'pedestrian']"
   ]
  }
 ],
 "metadata": {
  "kernelspec": {
   "display_name": ".venv",
   "language": "python",
   "name": "python3"
  },
  "language_info": {
   "codemirror_mode": {
    "name": "ipython",
    "version": 3
   },
   "file_extension": ".py",
   "mimetype": "text/x-python",
   "name": "python",
   "nbconvert_exporter": "python",
   "pygments_lexer": "ipython3",
   "version": "3.10.7"
  }
 },
 "nbformat": 4,
 "nbformat_minor": 2
}
